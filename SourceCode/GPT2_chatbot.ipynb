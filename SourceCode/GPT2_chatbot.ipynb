{
  "cells": [
    {
      "cell_type": "code",
      "execution_count": null,
      "metadata": {
        "id": "M7S26iibc2ai",
        "colab": {
          "base_uri": "https://localhost:8080/"
        },
        "outputId": "12774c3f-7968-4dd1-ca88-501448bfe41d"
      },
      "outputs": [
        {
          "output_type": "stream",
          "name": "stdout",
          "text": [
            "\u001b[2K     \u001b[90m━━━━━━━━━━━━━━━━━━━━━━━━━━━━━━━━━━━━━━━━\u001b[0m \u001b[32m6.3/6.3 MB\u001b[0m \u001b[31m69.9 MB/s\u001b[0m eta \u001b[36m0:00:00\u001b[0m\n",
            "\u001b[2K     \u001b[90m━━━━━━━━━━━━━━━━━━━━━━━━━━━━━━━━━━━━━━\u001b[0m \u001b[32m190.3/190.3 KB\u001b[0m \u001b[31m23.5 MB/s\u001b[0m eta \u001b[36m0:00:00\u001b[0m\n",
            "\u001b[2K     \u001b[90m━━━━━━━━━━━━━━━━━━━━━━━━━━━━━━━━━━━━━━━━\u001b[0m \u001b[32m7.6/7.6 MB\u001b[0m \u001b[31m113.3 MB/s\u001b[0m eta \u001b[36m0:00:00\u001b[0m\n",
            "\u001b[2K     \u001b[90m━━━━━━━━━━━━━━━━━━━━━━━━━━━━━━━━━━━━━━━\u001b[0m \u001b[32m179.3/179.3 KB\u001b[0m \u001b[31m7.6 MB/s\u001b[0m eta \u001b[36m0:00:00\u001b[0m\n",
            "\u001b[2K     \u001b[90m━━━━━━━━━━━━━━━━━━━━━━━━━━━━━━━━━━━━━━\u001b[0m \u001b[32m126.4/126.4 KB\u001b[0m \u001b[31m15.8 MB/s\u001b[0m eta \u001b[36m0:00:00\u001b[0m\n",
            "\u001b[2K     \u001b[90m━━━━━━━━━━━━━━━━━━━━━━━━━━━━━━━━━━━━━━\u001b[0m \u001b[32m185.0/185.0 KB\u001b[0m \u001b[31m11.7 MB/s\u001b[0m eta \u001b[36m0:00:00\u001b[0m\n",
            "\u001b[?25h  Preparing metadata (setup.py) ... \u001b[?25l\u001b[?25hdone\n",
            "  Building wheel for emoji (setup.py) ... \u001b[?25l\u001b[?25hdone\n"
          ]
        }
      ],
      "source": [
        "!pip install transformers -q\n",
        "!pip install arabert -q"
      ]
    },
    {
      "cell_type": "markdown",
      "metadata": {
        "id": "XlfX3D6fr_nH"
      },
      "source": [
        "### **Data Preprocessing **"
      ]
    },
    {
      "cell_type": "code",
      "execution_count": null,
      "metadata": {
        "id": "fC397A9Tg883"
      },
      "outputs": [],
      "source": [
        "import json\n",
        "# Load the tokenized data from the json file\n",
        "with open(\"train_ids.json\", \"r\") as f:\n",
        "    dials = json.load(f)"
      ]
    },
    {
      "cell_type": "code",
      "source": [
        "len(dials)"
      ],
      "metadata": {
        "colab": {
          "base_uri": "https://localhost:8080/"
        },
        "id": "lq49IbTOnonp",
        "outputId": "10cd05cb-e0ca-4d9f-8638-638a1aa234f9"
      },
      "execution_count": null,
      "outputs": [
        {
          "output_type": "execute_result",
          "data": {
            "text/plain": [
              "52613"
            ]
          },
          "metadata": {},
          "execution_count": 248
        }
      ]
    },
    {
      "cell_type": "code",
      "source": [
        "import json\n",
        "# Load the tokenized data from the json file\n",
        "with open(\"train_utters.json\", \"r\") as f:\n",
        "    dataset = json.load(f)"
      ],
      "metadata": {
        "id": "fRs5OeRYkiJz"
      },
      "execution_count": null,
      "outputs": []
    },
    {
      "cell_type": "code",
      "source": [
        "import json\n",
        "# Load the tokenized data from the json file\n",
        "with open(\"valid_ids.json\", \"r\") as f:\n",
        "    dials_valid = json.load(f)"
      ],
      "metadata": {
        "id": "7dEnvw-1l2RR"
      },
      "execution_count": null,
      "outputs": []
    },
    {
      "cell_type": "code",
      "source": [
        "len(dials_valid)"
      ],
      "metadata": {
        "colab": {
          "base_uri": "https://localhost:8080/"
        },
        "id": "y-QoyG9FnldQ",
        "outputId": "96eeb01b-78ff-489e-e41e-19a0804bb063"
      },
      "execution_count": null,
      "outputs": [
        {
          "output_type": "execute_result",
          "data": {
            "text/plain": [
              "9287"
            ]
          },
          "metadata": {},
          "execution_count": 247
        }
      ]
    },
    {
      "cell_type": "code",
      "source": [
        "import json\n",
        "# Load the tokenized data from the json file\n",
        "with open(\"valid_utters.json\", \"r\") as f:\n",
        "    dataset_valid = json.load(f)"
      ],
      "metadata": {
        "id": "CA7yHknSnQ-K"
      },
      "execution_count": null,
      "outputs": []
    },
    {
      "cell_type": "code",
      "execution_count": null,
      "metadata": {
        "colab": {
          "base_uri": "https://localhost:8080/"
        },
        "id": "8s704i-mmD-h",
        "outputId": "46eb5991-e17a-47a6-abcf-838c68812f6f"
      },
      "outputs": [
        {
          "output_type": "stream",
          "name": "stdout",
          "text": [
            "training data statistics\n",
            "Minimum number of turns:  1\n",
            "Maximum number of turns:  49\n",
            "Average number of turns:  8.771235246041853\n",
            "Dialogue with minimum number of turns:  ['في تلك الليلة كنت وحيداً وسمعت أنفاً قادماً من المطبخ كان مخيفاً']\n",
            "Dialogue with maximum number of turns:  ['صباح الخير، ما هو لونك المفضل؟', '-مرحباً، كيف حالك اليوم؟', 'لا أصدق هذا لأن هذا لوني المفضل أيضاً', 'أنا أيضاً أدرس اليوغا في بعض الأحيان.', 'آمل أن يكون كل شخص هناك يحترمك', 'انها اليوغا، معظم الناس باردون.', 'صحيح، كم من الوقت يُنفق لفعل ذلك؟', 'مثل كُلّ اليوم، أنا نملة للإنتِقال إلى كندا.', 'هل تعبت يوماً من فعل ذلك طوال اليوم ولماذا تريد أن تكون في كندا؟', 'أحب الطقس البارد', 'أفضل نوع من المناخ الدافئ أو المداري', 'لم نكن لنتفق مع (لول)', 'كيف تعرفين أنك لم تجربي معي بعد', 'حَسناً عندما تَضِعُه ذلك الطريقِ.', 'انظر، لا تقل أننا لن ننسجم فقط بسبب تفضيلات الطقس.', 'بالتأكيد، يمكننا تجربتها.', 'فقط استرخِ يا صغيري وكل شيء سيكون على ما يرام', 'يعجبني موقفك كثيراً', 'أنا لا أحب موقفك، أنا أحب ذلك.', 'أنا لا أعرف ماذا أقول لذلك.', 'انها على ما يرام طفل رضيع، تأخذ وقتك.', 'أنت أكثر من اللازم الكثير من lol.', '(لول) لقد سمعت هذا من العديد من الناس', 'من أين أنت؟', 'أنا من نيويورك، ماذا عنك؟', 'ولدت ونشأت.', 'مثالي، ربما يمكنني أن أزورك يوماً ما', 'هذا يعتمد، الاجتماع لا يلتقي حقاً بالناس على الإنترنت.', 'حسناً، يمكننا أن نأخذ الأمور خطوة بخطوة في وقت واحد', 'إذاً أين نجم؟', 'حسناً، أولاً، ماذا تحب أن تفعل أريد أن أعرفك أولاً', 'أَنا a مُتَعَقِّد، الكثير مِنْ مادةِ الحاسوبِ.', 'يمكنني التعامل مع ذلك، وأنا أقبل لك على ما أنت عليه.', 'شكراً، ماذا عنك؟', 'أنا أغني و أكتب القصائد، يمكنك أن تستيقظ يوماً ما و تجد واحداً بجانبك.', 'أي نوع من القصائد؟', 'قصائد الحب ، القصائد الراقية ، والبعض يقول كم انت جميلة .', 'هذا مضحك جداً يا رجل', 'ما الذي تجده مضحكاً جداً حيال ذلك يا حبي المستقبلي؟', 'حسنا أنا أتساءل إذا كنت امرأة، أولا وقبل كل شيء.', 'نعم، أنا امرأة ولكن شخصياتي رجل مثل هذا اللعاب.', 'الرجال عادة لا يتحدثون عن القصائد أو يتحدثون بسلاسة', 'أنا أخمن أنني قمت بعمل فظيع في إنتحال شخصية رجل', 'ذلك a شيء جيد،', 'هذا ليس شيئاً جيداً، كان من المفترض أن تعتقدي أنني رجل من عائلة (بول)', 'أنا سعيد لأنك لم تفعل، أنت قوي، أنا أحب ذلك.', '-انتظري، هل أنتِ امرأة؟', 'لا أنا لست امرأة', 'رحمتك يا رب، أنا مصدوم، أنا مذعور.']\n"
          ]
        }
      ],
      "source": [
        "print('training data statistics')\n",
        "turns_count = [len(dialogue) for dialogue in dataset]\n",
        "\n",
        "min_turns = min(turns_count)\n",
        "max_turns = max(turns_count)\n",
        "average_turns = sum(turns_count) / len(turns_count)\n",
        "\n",
        "print(\"Minimum number of turns: \", min_turns)\n",
        "print(\"Maximum number of turns: \", max_turns)\n",
        "print(\"Average number of turns: \", average_turns)\n",
        "\n",
        "min_index, min_turns = min(enumerate(turns_count), key=lambda x:x[1])\n",
        "max_index, max_turns = max(enumerate(turns_count), key=lambda x:x[1])\n",
        "\n",
        "min_dialogue = dataset[min_index]\n",
        "max_dialogue = dataset[max_index]\n",
        "\n",
        "print(\"Dialogue with minimum number of turns: \", min_dialogue)\n",
        "print(\"Dialogue with maximum number of turns: \", max_dialogue)"
      ]
    },
    {
      "cell_type": "code",
      "source": [
        "print('validation data statistics')\n",
        "turns_count = [len(dialogue) for dialogue in dataset_valid]\n",
        "\n",
        "min_turns = min(turns_count)\n",
        "max_turns = max(turns_count)\n",
        "average_turns = sum(turns_count) / len(turns_count)\n",
        "\n",
        "print(\"Minimum number of turns: \", min_turns)\n",
        "print(\"Maximum number of turns: \", max_turns)\n",
        "print(\"Average number of turns: \", average_turns)\n",
        "\n",
        "min_index, min_turns = min(enumerate(turns_count), key=lambda x:x[1])\n",
        "max_index, max_turns = max(enumerate(turns_count), key=lambda x:x[1])\n",
        "\n",
        "min_dialogue = dataset_valid[min_index]\n",
        "max_dialogue = dataset_valid[max_index]\n",
        "\n",
        "print(\"Dialogue with minimum number of turns: \", min_dialogue)\n",
        "print(\"Dialogue with maximum number of turns: \", max_dialogue)"
      ],
      "metadata": {
        "colab": {
          "base_uri": "https://localhost:8080/"
        },
        "id": "58QVSSDIm3MR",
        "outputId": "4fd6e4bc-d925-483d-bd47-e4f616424503"
      },
      "execution_count": null,
      "outputs": [
        {
          "output_type": "stream",
          "name": "stdout",
          "text": [
            "validation data statistics\n",
            "Minimum number of turns:  2\n",
            "Maximum number of turns:  31\n",
            "Average number of turns:  8.797135781199525\n",
            "Dialogue with minimum number of turns:  ['صباح الخير سيداتي وسادتي، نحن سعداء لأنكم حضرتم جميعاً إلى ورشتنا التدريبية، واليوم لدينا مجموعة كبيرة من المتحدثين للتحدث إليكم، أولاً في برنامجنا خبير ذو سمعة طيبة في مجال التنمية الاقتصادية الدولية، الدكتور جيمس سميث، الدكتور سميث، الدكتور سميث، يشارك في البحوث الاقتصادية منذ أكثر من عشرين عاماً، ويدرس في هارفارد منذ عام 1995، والآن، بدون مزيد من المجاملة، نود أن نرحب بالسيد جيمس سميث.', 'شكراً لكم يا سيد (جاكسون)، السيدات والسادة، الزملاء، الأصدقاء، الأصدقاء. موضوع حديثي هو العلاقات الدولية في عالم الهاوية. أنوي أن أقول بضع كلمات عن الوضع الراهن في الشرق الأوسط وكيف يؤثر على الاقتصاد العالمي. أود أن أقدم لكم لمحة عامة عن الطريقة التي تتشابك بها اقتصادات البلدان التي تبدو غير مترابطة. لقد قسمت حديثي إلى ثلاثة أجزاء، أولاً لمحة عامة عن العلاقات الدولية، ثانياً مناقشة عن الأوضاع السياسية الراهنة، وأخيراً عن الاتجاهات المستقبلية. سوف يستغرق عرضي حوالي ساعتين، ولكن سيكون هناك استراحة لمدة عشرين دقيقة في الوسط. سنتوقف للغداء في الساعة 12.']\n",
            "Dialogue with maximum number of turns:  ['تفضل يا (آرنولد) تفضل بالجلوس', 'صباح الخير.', 'هل تريد شيئاً لتشربه؟', 'لا، شكراً لك، لقد تناولت كوبين من القهوة على مكتبي', 'لذا، أنت a جادّ a شراب قهوَة.', 'نعم، إنه يجعلني أستمر أحياناً أعتقد أنني مدمن', 'حسناً، القهوة ليست شيئاً سيئاً، يجب أن يكون لدى الجميع شيئاً بالنسبة لي، إنه سيجار، هل أنت مدخن سيجار؟', 'لا، لقد جربتهم لكنني لست مدخناً حقاً', 'حسناً، ما الذي تودين التحدث معي بشأنه؟', 'أردت أن أرتب هذا الاجتماع معك لمناقشة اقتراح صغير.', 'أنا سعيد عندما يكون لدى الناس أفكار جديدة هنا أخبرني عنها', 'الأمر يتعلق باجتماعات الموظفين أنت تعرف كيف أن لدينا اجتماع للموظفين كل ثلاثاء', 'نعم', 'حسناً، لقد كنت أفكر في الأمر وأعتقد أنه يمكننا أن نفعل أشياء أكثر كفاءة هنا', 'ماذا تقترح؟', 'كما هو الحال الآن، الموظفين من جميع الفروع الأربعة يجتمعون مرة في الأسبوع، نجتمع لمدة ساعة واحدة، ولكن أعتقد أن الكثير من الوقت يضيع في النقل.', 'تقصد لأن الناس يجب أن يذهبوا عبر المدينة للوصول إلى هنا.', 'نعم، بعض الناس يقضون نصف الصباح على الطريق', 'هذا صحيح، لكن إجتماعات موظفينا مهمة جداً يا (آرنولد) لا أعرف كيف يمكننا العمل بدونها', 'لهذا السبب أريد أن يكون للناس موقف أفضل حيالهم', 'أعرف أن الكثير من الناس يعتقدون أن الإجتماعات ليست مفيدة جداً أنا مدرك لذلك', 'هذا ما أقترحه، أعتقد أن علينا أن نلتقي مرة كل أسبوعين، لكن نلتقي لتسعين دقيقة أو أكثر.', 'حسناً..', 'وأعتقد أيضا أن الجلسات ينبغي أن تكون أكثر تركيزا، وسأكون على استعداد لتحمل المسؤولية عن ذلك.', 'أتعني أنك تريد إدارة الإجتماعات؟', 'لا، ليس في الواقع تشغيلها. ولكن يمكنني أن أساعد في تنظيمها. يمكنني مناقشة مواضيع الاجتماع معك، ثم إعداد جدول زمني لكل اجتماع. ثم يمكنني أن أرسل رسالة إلكترونية إلى جميع الموظفين لشرح الاجتماع القادم. بهذه الطريقة سوف تصبح الاجتماعات أكثر تركيزا، والناس سوف يستعدون بشكل أفضل.', 'لكننا سنلتقي كل أسبوعين', 'أعتقد حقاً أنه سينجح، يمكن أن تكون الاجتماعات أطول وأفضل تنظيماً.', 'أنا لست ضد الفكرة، أرنولد. قد تكون أكثر كفاءة حقا، كما تقول. سأخبرك ما يمكننا فعله. لماذا لا نجرب اقتراحك لمدة شهر، ونرى كيف يعمل.', 'ممتاز، سأكون سعيداً ببدء العمل على ذلك', 'سأتصل بالمدراء، ثم غداً سأخبرك متى يمكننا تحديد موعد أول اجتماع لنا في هذا \"الأسلوب الجديد\"']\n"
          ]
        }
      ]
    },
    {
      "cell_type": "code",
      "execution_count": null,
      "metadata": {
        "id": "D3uDh0A1oZzO"
      },
      "outputs": [],
      "source": [
        "# utter_lengths = [len(utter) for dial in dataset for utter in dial]\n",
        "\n",
        "# min_length = min(utter_lengths)\n",
        "# max_length = max(utter_lengths)\n",
        "# average_length = sum(utter_lengths) / len(utter_lengths)\n",
        "\n",
        "# print(\"Minimum length of utterance:\", min_length)\n",
        "# print(\"Maximum length of utterance:\", max_length)\n",
        "# print(\"Average length of utterance:\", average_length)\n",
        "\n",
        "# min_index, min_length = min(enumerate(utter_lengths), key=lambda x:x[1])\n",
        "# max_index, max_length = max(enumerate(utter_lengths), key=lambda x:x[1])\n",
        "\n",
        "# #Flattening the list to find corresponding utterance\n",
        "# flat_dialogs = [utter for dial in dataset for utter in dial]\n",
        "# min_utterance = flat_dialogs[min_index]\n",
        "# max_utterance = flat_dialogs[max_index]\n",
        "\n",
        "# print(\"Utterance with minimum length: \", min_utterance)\n",
        "# print(\"Utterance with maximum length: \", max_utterance)"
      ]
    },
    {
      "cell_type": "code",
      "execution_count": null,
      "metadata": {
        "id": "37ItHNnOol12"
      },
      "outputs": [],
      "source": [
        "# utter_lengths = [len(utter) for dial in dataset for utter in dial]\n",
        "# average_length = sum(utter_lengths) / len(utter_lengths)\n",
        "\n",
        "# #Flattening the list to find corresponding utterance\n",
        "# flat_dialogs = [utter for dial in dataset for utter in dial]\n",
        "\n",
        "# long_utterances = sorted([i for i in flat_dialogs if len(i)>average_length], key=len, reverse=True)\n",
        "\n",
        "# for utter in long_utterances[:10]:\n",
        "#     print(utter)\n"
      ]
    },
    {
      "cell_type": "markdown",
      "metadata": {
        "id": "C6EwCcHXcmc2"
      },
      "source": [
        "# Pre processing and Cleaning\n",
        "  removing duplicated dialogues and duplicated utterances"
      ]
    },
    {
      "cell_type": "code",
      "execution_count": null,
      "metadata": {
        "id": "IxOTWIltcln2"
      },
      "outputs": [],
      "source": [
        "from arabert.preprocess import ArabertPreprocessor\n",
        "model_name=\"aubmindlab/bert-base-arabertv02-twitter\"\n",
        "arabert_prep = ArabertPreprocessor(model_name=model_name)"
      ]
    },
    {
      "cell_type": "code",
      "execution_count": null,
      "metadata": {
        "colab": {
          "base_uri": "https://localhost:8080/"
        },
        "id": "VaU4_SJLc8pQ",
        "outputId": "6d49b36f-3c84-4798-a5d9-3efbde36bbe1"
      },
      "outputs": [
        {
          "name": "stdout",
          "output_type": "stream",
          "text": [
            "\u001b[?25l     \u001b[90m━━━━━━━━━━━━━━━━━━━━━━━━━━━━━━━━━━━━━━━━\u001b[0m \u001b[32m0.0/61.5 KB\u001b[0m \u001b[31m?\u001b[0m eta \u001b[36m-:--:--\u001b[0m\r\u001b[2K     \u001b[90m━━━━━━━━━━━━━━━━━━━━━━━━━━━━━━━━━━━━━━━━\u001b[0m \u001b[32m61.5/61.5 KB\u001b[0m \u001b[31m2.7 MB/s\u001b[0m eta \u001b[36m0:00:00\u001b[0m\n",
            "\u001b[?25h"
          ]
        }
      ],
      "source": [
        "!pip install emot -q"
      ]
    },
    {
      "cell_type": "code",
      "execution_count": null,
      "metadata": {
        "id": "cu_et_yQdACF"
      },
      "outputs": [],
      "source": [
        "from emot.emo_unicode import UNICODE_EMOJI ,EMOJI_UNICODE, EMOTICONS_EMO\n",
        "import re\n",
        "import string"
      ]
    },
    {
      "cell_type": "code",
      "execution_count": null,
      "metadata": {
        "id": "s5F6CtfLgR1q"
      },
      "outputs": [],
      "source": [
        "# def find_first_3_conversations(conversations):\n",
        "#     result = []\n",
        "#     count = 0\n",
        "#     for i, conversation in enumerate(conversations):\n",
        "#         for utterance in conversation:\n",
        "#             if len(utterance) > 3000:\n",
        "#                 result.append(i)\n",
        "#                 count += 1\n",
        "#                 if count == 3:\n",
        "#                     return result\n",
        "#     return result\n",
        "\n",
        "# res = find_first_3_conversations(dataset)\n",
        "# print(res)"
      ]
    },
    {
      "cell_type": "code",
      "execution_count": null,
      "metadata": {
        "id": "XQcirYzFdKBM"
      },
      "outputs": [],
      "source": [
        "dialogue0 = dataset[5568]"
      ]
    },
    {
      "cell_type": "code",
      "execution_count": null,
      "metadata": {
        "id": "lHlItHMggvbp"
      },
      "outputs": [],
      "source": [
        "dialogue1 = dataset[829]"
      ]
    },
    {
      "cell_type": "code",
      "execution_count": null,
      "metadata": {
        "id": "sACDJkiTg-aW"
      },
      "outputs": [],
      "source": [
        "dialogue2 = dataset[1079]"
      ]
    },
    {
      "cell_type": "code",
      "execution_count": null,
      "metadata": {
        "id": "P-hMUdQddDGu"
      },
      "outputs": [],
      "source": [
        "def convert_emojis(text):\n",
        "    for emot in UNICODE_EMOJI:\n",
        "        text = text.replace(emot, \"_\".join(UNICODE_EMOJI[emot].replace(\",\",\"\").replace(\":\",\"\").split()))\n",
        "    return text\n",
        "\n",
        "# Function for converting emoticons into word\n",
        "def convert_emoticons(text):\n",
        "    #text = re.escape(text)\n",
        "    for emot in EMOTICONS_EMO:\n",
        "\n",
        "        text = text.replace(emot, \"_\".join(EMOTICONS_EMO[emot].replace(\",\",\"\").split()))\n",
        "    return text\n",
        "\n",
        "def data_cleaning (text):\n",
        "    # clean-up:\n",
        "    # remove qutoions \n",
        "    text = text.strip()\n",
        "\n",
        "    text= re.sub(r'http\\S+', '', text)\n",
        "    \n",
        "    text= re.sub(r'ي+','ي', text)\n",
        "    text = text.replace(\"آ\", \"ا\")\n",
        "    text = text.replace(\"إ\", \"ا\")\n",
        "    text = text.replace(\"أ\", \"ا\")\n",
        "    text = text.replace(\"ؤ\", \"و\")\n",
        "    text = text.replace(\"ئ\", \"ي\")\n",
        "\n",
        "\n",
        "    text= re.sub(r'[@|#]\\S*', '',text)\n",
        "    text= re.sub(r'\"+', '', text)\n",
        "    # Remove arabic signs except numbers and /\n",
        "    text= re.sub(r'([@A-Za-z_ـــــــــــــ]+)|[^\\w\\s/0-9]|#|http\\S+', '', text)\n",
        "    punc = '''!()-[]{};:'\"\\,<>.?@#$%^&*_~'''\n",
        "\n",
        "    # Remove repeated letters like \"الللللللللللللللله\" to \"الله\"\n",
        "    text= text[0:2] + ''.join([text[i] for i in range(2, len(text)) if text[i]!=text[i-1] or text[i]!=text[i-2]])\n",
        "    text= re.sub(r'D',':D', text)\n",
        "    text= re.sub(r'هه+', 'face_with_tears_of_joy', text)\n",
        "    text= convert_emojis(text)\n",
        "    text= convert_emoticons(text)\n",
        "\n",
        "     # Removing punctuations in string except for /\n",
        "    text = text.translate(str.maketrans('', '', punc))\n",
        "    \n",
        "    text = re.sub(r'(?:^| )\\w(?:$| )', ' ', text)\n",
        "    text = re.sub(r\"$\\d+\\W+|\\b\\d+\\b|\\W+\\d+$\", \"\", text)\n",
        "    text = re.sub(\" \\d+\", \" \", text)\n",
        "    text = re.sub(\"(\\s\\d+)\",\"\",text)\n",
        "    text = re.sub(r'\\s+', ' ', text)\n",
        "    text = re.sub(\"(\\s\\d+)\",\"\",text) \n",
        "    # Returns: hi what is the weather like\n",
        "    \n",
        "    # remove extra space\n",
        "    text = text.strip()\n",
        "\n",
        "    return text"
      ]
    },
    {
      "cell_type": "code",
      "execution_count": null,
      "metadata": {
        "id": "nep6l4sboBFB"
      },
      "outputs": [],
      "source": [
        "!pip install nltk -q"
      ]
    },
    {
      "cell_type": "code",
      "execution_count": null,
      "metadata": {
        "colab": {
          "base_uri": "https://localhost:8080/"
        },
        "id": "k58XGQdYh4qC",
        "outputId": "36c9d417-c314-40fb-b376-a7ff0b03fe81"
      },
      "outputs": [
        {
          "output_type": "stream",
          "name": "stderr",
          "text": [
            "[nltk_data] Downloading package punkt to /root/nltk_data...\n",
            "[nltk_data]   Unzipping tokenizers/punkt.zip.\n"
          ]
        }
      ],
      "source": [
        "import nltk\n",
        "from nltk.tokenize import word_tokenize\n",
        "\n",
        "nltk.download('punkt')\n",
        "\n",
        "def process_arabic_conversation(conversation):\n",
        "    # Tokenize each utterance\n",
        "    tokenized_conversation = [word_tokenize(utterance) for utterance in conversation]\n",
        "    \n",
        "    # Remove duplicated words\n",
        "    processed_conversation = []\n",
        "    for utterance in tokenized_conversation:\n",
        "        processed_utterance = []\n",
        "        for word in utterance:\n",
        "            if word not in processed_utterance:\n",
        "                processed_utterance.append(word)\n",
        "        processed_conversation.append(' '.join(processed_utterance))\n",
        "    \n",
        "    return processed_conversation"
      ]
    },
    {
      "cell_type": "code",
      "source": [
        "dial = ['أودّ أن أضع طلبيّة.',\n",
        " 'حسناً يا سيدتي، ما الأشياء التي تريدين طلبها اليوم؟',\n",
        " 'لديّ كتالوجك هنا، أتريدني أن أخبرك أرقام البنود، أو الأسماء؟',\n",
        " 'يمكنكِ أن تخبريني بكلا الأمرين يا سيدتي',\n",
        " 'حسناً، أريد أن أطلب أوراق الساتين في الصفحة 28',\n",
        " 'أغطية (ميريمان) الساتين؟',\n",
        " 'نعم، هذا صحيح.',\n",
        " 'وما هو الحجم الذي تحبه؟',\n",
        " 'أنا بحاجة إلى مجموعة كاملة من الأوراق في حجم الملك.',\n",
        " 'حسناً يا سيدتي، وما هو اللون الذي أردتيه؟',\n",
        " '-النافورة، من فضلك .',\n",
        " 'اذاً هذا هو حاصل العدد MS2119، الحجم.',\n",
        " 'نعم، أعتقد ذلك هل يمكنني أن أسألك شيئاً؟',\n",
        " 'بالتأكيد. بالتأكيد.',\n",
        " 'أنا أجنبي هنا، لغتي الإنجليزية ليست مثالية أيمكنك إخباري ما هو الساتين؟',\n",
        " 'الساتين كالحرير يا سيدتي إنه يبدو كالحرير لكنه مادة مختلفة',\n",
        " 'فهمت، هذا ما ظننته',\n",
        " 'أي شيء آخر اليوم؟',\n",
        " 'لا، أنا فقط بحاجة إلى الشراشف.',\n",
        " 'حسناً، برسوم الشحن، مجموعك سيكون 68 دولاراً، هل ستدفع بالائتمان؟',\n",
        " 'نعم',\n",
        " 'فيزا، ماستر كارد، أو أمريكان إكسبريس؟',\n",
        " 'التأشيرة.',\n",
        " 'رقم البطاقة؟',\n",
        " '(أ) برنامج الأمم المتحدة للبيئة، برنامج الأمم المتحدة للبيئة، برنامج الأمم المتحدة للبيئة، برنامج الأمم المتحدة للبيئة، برنامج الأمم المتحدة للبيئة، برنامج الأمم المتحدة للبيئة، برنامج الأمم المتحدة للبيئة، برنامج الأمم المتحدة للبيئة، برنامج الأمم المتحدة للبيئة، برنامج الأمم المتحدة للبيئة، برنامج الأمم المتحدة للبيئة، برنامج الأمم المتحدة للبيئة، برنامج الأمم المتحدة للبيئة، برنامج الأمم المتحدة للبيئة، برنامج الأمم المتحدة للبيئة، برنامج الأمم المتحدة للبيئة، برنامج الأمم المتحدة للبيئة، برنامج الأمم المتحدة للبيئة، برنامج الأمم المتحدة للبيئة، برنامج الأمم المتحدة للبيئة، برنامج الأمم المتحدة للبيئة، برنامج الأمم المتحدة للبيئة، برنامج الأمم المتحدة للبيئة، برنامج الأمم المتحدة للبيئة، برنامج الأمم المتحدة للبيئة، برنامج الأمم المتحدة للبيئة، برنامج الأمم المتحدة للبيئة، برنامج الأمم المتحدة للبيئة، برنامج الأمم المتحدة للبيئة، برنامج الأمم المتحدة للبيئة، برنامج الأمم المتحدة للبيئة، برنامج الأمم المتحدة للبيئة، برنامج الأمم المتحدة للبيئة، برنامج الأمم المتحدة للبيئة، برنامج الأمم المتحدة للبيئة، برنامج الأمم المتحدة للبيئة، برنامج الأمم المتحدة للبيئة، برنامج الأمم المتحدة للبيئة، برنامج الأمم المتحدة للبيئة، برنامج الأمم المتحدة للبيئة، برنامج الأمم المتحدة للبيئة، برنامج الأمم المتحدة للبيئة، برنامج الأمم المتحدة للبيئة، برنامج الأمم المتحدة للبيئة، برنامج الأمم المتحدة للبيئة، برنامج الأمم المتحدة للبيئة، برنامج الأمم المتحدة للبيئة، برنامج الأمم المتحدة للبيئة، برنامج الأمم المتحدة للبيئة، برنامج الأمم المتحدة للبيئة، برنامج الأمم المتحدة للبيئة، برنامج الأمم المتحدة للبيئة، برنامج الأمم المتحدة للبيئة، برنامج الأمم المتحدة للبيئة، برنامج الأمم المتحدة للبيئة، برنامج الأمم المتحدة للبيئة، برنامج الأمم المتحدة للبيئة، برنامج الأمم المتحدة الإنمائي، برنامج الأمم المتحدة الإنمائي، برنامج الأمم المتحدة الإنمائي، برنامج الأمم المتحدة الإنمائي، برنامج الأمم المتحدة الإنمائي، برنامج الأمم المتحدة الإنمائي، برنامج الأمم المتحدة الإنمائي، برنامج الأمم المتحدة الإنمائي، برنامج الأمم المتحدة الإنمائي، برنامج الأمم المتحدة الإنمائي، برنامج الأمم المتحدة الإنمائي، برنامج الأمم المتحدة الإنمائي، برنامج الأمم المتحدة الإنمائي، برنامج الأمم المتحدة الإنمائي، برنامج الأمم المتحدة الإنمائي، برنامج الأمم المتحدة الإنمائي، برنامج الأمم المتحدة الإنمائي، برنامج الأمم المتحدة الإنمائي، برنامج الأمم المتحدة الإنمائي، برنامج الأمم المتحدة الإنمائي، برنامج الأمم المتحدة الإنمائي، برنامج الأمم المتحدة الإنمائي، برنامج الأمم المتحدة الإنمائي، برنامج الأمم المتحدة الإنمائي، برنامج الأمم المتحدة الإنمائي، برنامج الأمم المتحدة الإنمائي، برنامج الأمم المتحدة الإنمائي، برنامج الأمم المتحدة الإنمائي، برنامج الأمم المتحدة الإنمائي، برنامج الأمم المتحدة الإنمائي، برنامج الأمم المتحدة الإنمائي، برنامج الأمم المتحدة الإنمائي، برنامج الأمم المتحدة الإنمائي، برنامج الأمم المتحدة الإنمائي، برنامج الأمم المتحدة الإنمائي، برنامج الأمم المتحدة الإنمائي، برنامج الأمم المتحدة الإنمائي، برنامج الأمم المتحدة الإنمائي، برنامج الأمم المتحدة الإنمائي، برنامج الأمم المتحدة الإنمائي، برنامج الأمم المتحدة الإنمائي، برنامج الأمم المتحدة الإنمائي، برنامج الأمم المتحدة الإنمائي، برنامج الأمم المتحدة الإنمائي، برنامج الأمم',\n",
        " 'تاريخ انتهاء الصلاحية؟',\n",
        " 'تموز/يوليه 2006، 2006',\n",
        " 'حسناً يا سيدتي، سأتولّى أمر تلك الشحنة عنكِ، ومن ثمّ سأحصل على عنوانكِ خلال لحظة.',\n",
        " 'شكراً لك.']"
      ],
      "metadata": {
        "id": "f_K4-MmUhyZ6"
      },
      "execution_count": null,
      "outputs": []
    },
    {
      "cell_type": "code",
      "source": [
        "process_arabic_conversation(dial)"
      ],
      "metadata": {
        "colab": {
          "base_uri": "https://localhost:8080/"
        },
        "id": "drstBy27h4HV",
        "outputId": "a9aada0b-743e-4ae2-9e1b-93d4cc28f7fa"
      },
      "execution_count": null,
      "outputs": [
        {
          "output_type": "execute_result",
          "data": {
            "text/plain": [
              "['أودّ أن أضع طلبيّة .',\n",
              " 'حسناً يا سيدتي، ما الأشياء التي تريدين طلبها اليوم؟',\n",
              " 'لديّ كتالوجك هنا، أتريدني أن أخبرك أرقام البنود، أو الأسماء؟',\n",
              " 'يمكنكِ أن تخبريني بكلا الأمرين يا سيدتي',\n",
              " 'حسناً، أريد أن أطلب أوراق الساتين في الصفحة 28',\n",
              " 'أغطية ( ميريمان ) الساتين؟',\n",
              " 'نعم، هذا صحيح .',\n",
              " 'وما هو الحجم الذي تحبه؟',\n",
              " 'أنا بحاجة إلى مجموعة كاملة من الأوراق في حجم الملك .',\n",
              " 'حسناً يا سيدتي، وما هو اللون الذي أردتيه؟',\n",
              " '-النافورة، من فضلك .',\n",
              " 'اذاً هذا هو حاصل العدد MS2119، الحجم .',\n",
              " 'نعم، أعتقد ذلك هل يمكنني أن أسألك شيئاً؟',\n",
              " 'بالتأكيد .',\n",
              " 'أنا أجنبي هنا، لغتي الإنجليزية ليست مثالية أيمكنك إخباري ما هو الساتين؟',\n",
              " 'الساتين كالحرير يا سيدتي إنه يبدو لكنه مادة مختلفة',\n",
              " 'فهمت، هذا ما ظننته',\n",
              " 'أي شيء آخر اليوم؟',\n",
              " 'لا، أنا فقط بحاجة إلى الشراشف .',\n",
              " 'حسناً، برسوم الشحن، مجموعك سيكون 68 دولاراً، هل ستدفع بالائتمان؟',\n",
              " 'نعم',\n",
              " 'فيزا، ماستر كارد، أو أمريكان إكسبريس؟',\n",
              " 'التأشيرة .',\n",
              " 'رقم البطاقة؟',\n",
              " '( أ ) برنامج الأمم المتحدة للبيئة، الإنمائي،',\n",
              " 'تاريخ انتهاء الصلاحية؟',\n",
              " 'تموز/يوليه 2006، 2006',\n",
              " 'حسناً يا سيدتي، سأتولّى أمر تلك الشحنة عنكِ، ومن ثمّ سأحصل على عنوانكِ خلال لحظة .',\n",
              " 'شكراً لك .']"
            ]
          },
          "metadata": {},
          "execution_count": 4
        }
      ]
    },
    {
      "cell_type": "code",
      "source": [
        "dialogue0"
      ],
      "metadata": {
        "colab": {
          "base_uri": "https://localhost:8080/"
        },
        "id": "mgf3KYS_EmQp",
        "outputId": "8e5ebe07-c994-4c81-e0d1-2c38aacc043a"
      },
      "execution_count": null,
      "outputs": [
        {
          "output_type": "execute_result",
          "data": {
            "text/plain": [
              "['أودّ أن أضع طلبيّة.',\n",
              " 'حسناً يا سيدتي، ما الأشياء التي تريدين طلبها اليوم؟',\n",
              " 'لديّ كتالوجك هنا، أتريدني أن أخبرك أرقام البنود، أو الأسماء؟',\n",
              " 'يمكنكِ أن تخبريني بكلا الأمرين يا سيدتي',\n",
              " 'حسناً، أريد أن أطلب أوراق الساتين في الصفحة 28',\n",
              " 'أغطية (ميريمان) الساتين؟',\n",
              " 'نعم، هذا صحيح.',\n",
              " 'وما هو الحجم الذي تحبه؟',\n",
              " 'أنا بحاجة إلى مجموعة كاملة من الأوراق في حجم الملك.',\n",
              " 'حسناً يا سيدتي، وما هو اللون الذي أردتيه؟',\n",
              " '-النافورة، من فضلك .',\n",
              " 'اذاً هذا هو حاصل العدد MS2119، الحجم.',\n",
              " 'نعم، أعتقد ذلك هل يمكنني أن أسألك شيئاً؟',\n",
              " 'بالتأكيد. بالتأكيد.',\n",
              " 'أنا أجنبي هنا، لغتي الإنجليزية ليست مثالية أيمكنك إخباري ما هو الساتين؟',\n",
              " 'الساتين كالحرير يا سيدتي إنه يبدو كالحرير لكنه مادة مختلفة',\n",
              " 'فهمت، هذا ما ظننته',\n",
              " 'أي شيء آخر اليوم؟',\n",
              " 'لا، أنا فقط بحاجة إلى الشراشف.',\n",
              " 'حسناً، برسوم الشحن، مجموعك سيكون 68 دولاراً، هل ستدفع بالائتمان؟',\n",
              " 'نعم',\n",
              " 'فيزا، ماستر كارد، أو أمريكان إكسبريس؟',\n",
              " 'التأشيرة.',\n",
              " 'رقم البطاقة؟',\n",
              " '(أ) برنامج الأمم المتحدة للبيئة، برنامج الأمم المتحدة للبيئة، برنامج الأمم المتحدة للبيئة، برنامج الأمم المتحدة للبيئة، برنامج الأمم المتحدة للبيئة، برنامج الأمم المتحدة للبيئة، برنامج الأمم المتحدة للبيئة، برنامج الأمم المتحدة للبيئة، برنامج الأمم المتحدة للبيئة، برنامج الأمم المتحدة للبيئة، برنامج الأمم المتحدة للبيئة، برنامج الأمم المتحدة للبيئة، برنامج الأمم المتحدة للبيئة، برنامج الأمم المتحدة للبيئة، برنامج الأمم المتحدة للبيئة، برنامج الأمم المتحدة للبيئة، برنامج الأمم المتحدة للبيئة، برنامج الأمم المتحدة للبيئة، برنامج الأمم المتحدة للبيئة، برنامج الأمم المتحدة للبيئة، برنامج الأمم المتحدة للبيئة، برنامج الأمم المتحدة للبيئة، برنامج الأمم المتحدة للبيئة، برنامج الأمم المتحدة للبيئة، برنامج الأمم المتحدة للبيئة، برنامج الأمم المتحدة للبيئة، برنامج الأمم المتحدة للبيئة، برنامج الأمم المتحدة للبيئة، برنامج الأمم المتحدة للبيئة، برنامج الأمم المتحدة للبيئة، برنامج الأمم المتحدة للبيئة، برنامج الأمم المتحدة للبيئة، برنامج الأمم المتحدة للبيئة، برنامج الأمم المتحدة للبيئة، برنامج الأمم المتحدة للبيئة، برنامج الأمم المتحدة للبيئة، برنامج الأمم المتحدة للبيئة، برنامج الأمم المتحدة للبيئة، برنامج الأمم المتحدة للبيئة، برنامج الأمم المتحدة للبيئة، برنامج الأمم المتحدة للبيئة، برنامج الأمم المتحدة للبيئة، برنامج الأمم المتحدة للبيئة، برنامج الأمم المتحدة للبيئة، برنامج الأمم المتحدة للبيئة، برنامج الأمم المتحدة للبيئة، برنامج الأمم المتحدة للبيئة، برنامج الأمم المتحدة للبيئة، برنامج الأمم المتحدة للبيئة، برنامج الأمم المتحدة للبيئة، برنامج الأمم المتحدة للبيئة، برنامج الأمم المتحدة للبيئة، برنامج الأمم المتحدة للبيئة، برنامج الأمم المتحدة للبيئة، برنامج الأمم المتحدة للبيئة، برنامج الأمم المتحدة للبيئة، برنامج الأمم المتحدة للبيئة، برنامج الأمم المتحدة الإنمائي، برنامج الأمم المتحدة الإنمائي، برنامج الأمم المتحدة الإنمائي، برنامج الأمم المتحدة الإنمائي، برنامج الأمم المتحدة الإنمائي، برنامج الأمم المتحدة الإنمائي، برنامج الأمم المتحدة الإنمائي، برنامج الأمم المتحدة الإنمائي، برنامج الأمم المتحدة الإنمائي، برنامج الأمم المتحدة الإنمائي، برنامج الأمم المتحدة الإنمائي، برنامج الأمم المتحدة الإنمائي، برنامج الأمم المتحدة الإنمائي، برنامج الأمم المتحدة الإنمائي، برنامج الأمم المتحدة الإنمائي، برنامج الأمم المتحدة الإنمائي، برنامج الأمم المتحدة الإنمائي، برنامج الأمم المتحدة الإنمائي، برنامج الأمم المتحدة الإنمائي، برنامج الأمم المتحدة الإنمائي، برنامج الأمم المتحدة الإنمائي، برنامج الأمم المتحدة الإنمائي، برنامج الأمم المتحدة الإنمائي، برنامج الأمم المتحدة الإنمائي، برنامج الأمم المتحدة الإنمائي، برنامج الأمم المتحدة الإنمائي، برنامج الأمم المتحدة الإنمائي، برنامج الأمم المتحدة الإنمائي، برنامج الأمم المتحدة الإنمائي، برنامج الأمم المتحدة الإنمائي، برنامج الأمم المتحدة الإنمائي، برنامج الأمم المتحدة الإنمائي، برنامج الأمم المتحدة الإنمائي، برنامج الأمم المتحدة الإنمائي، برنامج الأمم المتحدة الإنمائي، برنامج الأمم المتحدة الإنمائي، برنامج الأمم المتحدة الإنمائي، برنامج الأمم المتحدة الإنمائي، برنامج الأمم المتحدة الإنمائي، برنامج الأمم المتحدة الإنمائي، برنامج الأمم المتحدة الإنمائي، برنامج الأمم المتحدة الإنمائي، برنامج الأمم المتحدة الإنمائي، برنامج الأمم المتحدة الإنمائي، برنامج الأمم',\n",
              " 'تاريخ انتهاء الصلاحية؟',\n",
              " 'تموز/يوليه 2006، 2006',\n",
              " 'حسناً يا سيدتي، سأتولّى أمر تلك الشحنة عنكِ، ومن ثمّ سأحصل على عنوانكِ خلال لحظة.',\n",
              " 'شكراً لك.']"
            ]
          },
          "metadata": {},
          "execution_count": 142
        }
      ]
    },
    {
      "cell_type": "code",
      "execution_count": null,
      "metadata": {
        "colab": {
          "base_uri": "https://localhost:8080/"
        },
        "id": "XK1GKLAP7oP5",
        "outputId": "72c869fd-bfe4-4301-ba83-db70e460bb26"
      },
      "outputs": [
        {
          "output_type": "execute_result",
          "data": {
            "text/plain": [
              "['اود ان اضع طلبية',\n",
              " 'حسنا يا سيدتي ما الاشياء التي تريدين طلبها اليوم',\n",
              " 'لدي كتالوجك هنا اتريدني ان اخبرك ارقام البنود او الاسماء',\n",
              " 'يمكنك ان تخبريني بكلا الامرين يا سيدتي',\n",
              " 'حسنا اريد ان اطلب اوراق الساتين في الصفحة',\n",
              " 'اغطية ميريمان الساتين',\n",
              " 'نعم هذا صحيح',\n",
              " 'وما هو الحجم الذي تحبه',\n",
              " 'انا بحاجة الى مجموعة كاملة من الاوراق في حجم الملك',\n",
              " 'حسنا يا سيدتي وما هو اللون الذي اردتيه',\n",
              " 'النافورة من فضلك',\n",
              " 'اذا هذا هو حاصل العدد الحجم',\n",
              " 'نعم اعتقد ذلك هل يمكنني ان اسالك شييا',\n",
              " 'بالتاكيد',\n",
              " 'انا اجنبي هنا لغتي الانجليزية ليست مثالية ايمكنك اخباري ما هو الساتين',\n",
              " 'الساتين كالحرير يا سيدتي انه يبدو لكنه مادة مختلفة',\n",
              " 'فهمت هذا ما ظننته',\n",
              " 'اي شيء اخر اليوم',\n",
              " 'لا انا فقط بحاجة الى الشراشف',\n",
              " 'حسنا برسوم الشحن مجموعك سيكون دولارا هل ستدفع بالايتمان',\n",
              " 'نعم',\n",
              " 'فيزا ماستر كارد او امريكان اكسبريس',\n",
              " 'التاشيرة',\n",
              " 'رقم البطاقة',\n",
              " 'برنامج الامم المتحدة للبيية الانمايي',\n",
              " 'تاريخ انتهاء الصلاحية',\n",
              " 'تموز/يوليه',\n",
              " 'حسنا يا سيدتي ساتولى امر تلك الشحنة عنك ومن ثم ساحصل على عنوانك خلال لحظة',\n",
              " 'شكرا لك']"
            ]
          },
          "metadata": {},
          "execution_count": 144
        }
      ],
      "source": [
        "cleaned_dialogue0 = process_arabic_conversation(dialogue0)\n",
        "cleaned_dialogue0 = [data_cleaning(x) for x in cleaned_dialogue0]\n",
        "cleaned_dialogue0"
      ]
    },
    {
      "cell_type": "code",
      "execution_count": null,
      "metadata": {
        "id": "Wn1AKoz91QWL"
      },
      "outputs": [],
      "source": [
        "cleaned_train_utters = [process_arabic_conversation(x) for x in dataset]\n",
        "cleaned_train_utters = [[data_cleaning(utter) for utter in conv] for conv in cleaned_train_utters]\n",
        "cleaned_train_utters = [[arabert_prep.preprocess(utter) for utter in conv] for conv in cleaned_train_utters]"
      ]
    },
    {
      "cell_type": "code",
      "source": [
        "cleaned_valid_utters = [process_arabic_conversation(x) for x in dataset_valid]\n",
        "cleaned_valid_utters = [[data_cleaning(utter) for utter in conv] for conv in cleaned_valid_utters]\n",
        "cleaned_valid_utters = [[arabert_prep.preprocess(utter) for utter in conv] for conv in cleaned_valid_utters]"
      ],
      "metadata": {
        "id": "ihLlz-scn7w5"
      },
      "execution_count": null,
      "outputs": []
    },
    {
      "cell_type": "code",
      "execution_count": null,
      "metadata": {
        "colab": {
          "base_uri": "https://localhost:8080/"
        },
        "id": "88ODCsaw22YA",
        "outputId": "f38918e8-5314-4fea-f46b-da9f5f1ac9fe"
      },
      "outputs": [
        {
          "output_type": "stream",
          "name": "stdout",
          "text": [
            "52613\n"
          ]
        }
      ],
      "source": [
        "print(len(cleaned_train_utters))"
      ]
    },
    {
      "cell_type": "code",
      "source": [
        "print(len(cleaned_valid_utters))"
      ],
      "metadata": {
        "colab": {
          "base_uri": "https://localhost:8080/"
        },
        "id": "xGBVpVaXoOI-",
        "outputId": "66d9bffa-ce29-4add-e21f-5bf829bac806"
      },
      "execution_count": null,
      "outputs": [
        {
          "output_type": "stream",
          "name": "stdout",
          "text": [
            "9287\n"
          ]
        }
      ]
    },
    {
      "cell_type": "code",
      "source": [
        "import json\n",
        "from google.colab import drive\n",
        "\n",
        "# Mount Google Drive\n",
        "drive.mount('/content/drive')"
      ],
      "metadata": {
        "colab": {
          "base_uri": "https://localhost:8080/"
        },
        "id": "2bsJojBwhdw7",
        "outputId": "0d51c77b-b086-4431-de3a-2a22f56b795b"
      },
      "execution_count": null,
      "outputs": [
        {
          "output_type": "stream",
          "name": "stdout",
          "text": [
            "Mounted at /content/drive\n"
          ]
        }
      ]
    },
    {
      "cell_type": "code",
      "execution_count": null,
      "metadata": {
        "id": "w7mo0Y6l4UFV",
        "colab": {
          "base_uri": "https://localhost:8080/"
        },
        "outputId": "197c31af-595e-4d24-c13d-4a14f0d1e235"
      },
      "outputs": [
        {
          "output_type": "stream",
          "name": "stdout",
          "text": [
            "Drive already mounted at /content/drive; to attempt to forcibly remount, call drive.mount(\"/content/drive\", force_remount=True).\n"
          ]
        }
      ],
      "source": [
        "# Save list to JSON file\n",
        "with open('/content/drive/My Drive/Chatbot data/cleaned_train_utters.json', 'w') as f:\n",
        "    json.dump(cleaned_train_utters, f)\n",
        "\n",
        "# Save list to JSON file\n",
        "with open('/content/drive/My Drive/Chatbot data/cleaned_valid_utters.json', 'w') as f:\n",
        "    json.dump(cleaned_valid_utters, f)"
      ]
    },
    {
      "cell_type": "code",
      "source": [
        "with open('/content/drive/My Drive/Chatbot data/cleaned_train_utters.json', 'r') as f:\n",
        "  cleaned_train_utters = json.load(f)\n",
        "\n",
        "with open('/content/drive/My Drive/Chatbot data/cleaned_valid_utters.json', 'r') as f:\n",
        "  cleaned_valid_utters = json.load(f)"
      ],
      "metadata": {
        "id": "zuY_8AchXGhv"
      },
      "execution_count": null,
      "outputs": []
    },
    {
      "cell_type": "markdown",
      "metadata": {
        "id": "hbp75VR9ryV4"
      },
      "source": [
        "**Tokenization**"
      ]
    },
    {
      "cell_type": "code",
      "execution_count": null,
      "metadata": {
        "id": "H8om967oecv5",
        "colab": {
          "base_uri": "https://localhost:8080/",
          "height": 177,
          "referenced_widgets": [
            "86effd49061046779ff1f0d506ba58f6",
            "cce5e9944c274e69951a2cfef8ed1f4f",
            "dab5abce50234609846572f9a958f56a",
            "2c6bc7f3fa264a93bb9c76e23a405f8c",
            "dc14af69868748478f1d2c6e43b5aa0b",
            "e4e0501162a64540ab817760d709c5c3",
            "f0643efe509a4b2b955655b0cfa53f4d",
            "d45a72dd037b46758a2ab22ff3aad809",
            "d41ac11c3f9b4156a65e7a2740465b82",
            "962d8e466b0a4247888ea825cf3d88d4",
            "dbca65de989d4759a8e3efe8b4b91b72",
            "c554d13caa0a4802b144f1187210f879",
            "5b5da6c510eb43349ef7dd74e8313114",
            "21dd1e810ba6463fb602d73801c3a985",
            "ca0efc2f79ee404a9616fdcd77bcbdb9",
            "584f6ba05e6640fcb13c390fd6505c45",
            "5944af9039794cf9a8d2e9501f484202",
            "667602e7a5b44240a7a05ceea32cf04f",
            "4bb6fb5d27db4e6897cff82b8788a0fa",
            "2ac177bcdef24a2cacd4f280df95f25e",
            "655f2ef3423d4f4ea2d21171d2e57a46",
            "88c0cca8658b470f9f34fcfb748970f2",
            "fdeec7ca72064f47a3c3ce6d616b5852",
            "3ce620361a904db3a668739c0fc6c490",
            "1fccd45d9a684163aa438ada64f46e1a",
            "e7936ddc07e247c4b031bf33be4d8587",
            "25fa52852d674b69b6c3a5cd97abb3a0",
            "9f53e3c43e2e410aa391728068426920",
            "e13ddb1d8651410fba24773f8e7e5b34",
            "20c1a48d9d184690b8fb4002c0e427cd",
            "66679a59d6f747528197b0b081074f73",
            "f5b9cb72cf8548f8acc07a16645c1181",
            "31ff3f52d32d4323b878ef224398335a",
            "699396af24ef43f19ffb2a4854ac1557",
            "2f1ab916aeff4494a88e354fcf45bc52",
            "0866dc1725a14075bde779c34b89aed8",
            "0bcc942cad9b4414807cc731f4e54a22",
            "200525098db946f4bd349a132d06ffaa",
            "3ec6814fbaa042f2871b95c963017ff6",
            "715f74a08cb64f53a1dc97fbda9a4484",
            "d026214e4acc40e9830b9f8f375ef58e",
            "b7590aa8c057468da4fa9cccf254c20f",
            "6133bc87bfc04f348281e5fdc75deed1",
            "75de906d51154c2cb8566d270dbffcbc",
            "9e1771b5b2bf4dac9a4f3b01baa81ae2",
            "58f86466a63f42bfb261fe1d4ed965d4",
            "9e7c66435b404fa3aa92e48bd011b872",
            "96fb23d9a9aa4282ae4d2cd656b6f8f8",
            "792d1d02c1504281934f0b511581c74b",
            "58d6cc3995b548599f75ef1d4af42903",
            "bc566df671a44c0d9a9bd3b46e107292",
            "689d5751d0d948b8ab809b0010797288",
            "beebe16bcac74eb9b62509aecce119dc",
            "a0277ddb1a934dc1bbec46262e25f322",
            "4df33929b91049a0afb58be2e7f0808f"
          ]
        },
        "outputId": "99c86790-edab-4867-9fa9-886dbc308233"
      },
      "outputs": [
        {
          "output_type": "display_data",
          "data": {
            "text/plain": [
              "Downloading (…)olve/main/vocab.json:   0%|          | 0.00/1.94M [00:00<?, ?B/s]"
            ],
            "application/vnd.jupyter.widget-view+json": {
              "version_major": 2,
              "version_minor": 0,
              "model_id": "86effd49061046779ff1f0d506ba58f6"
            }
          },
          "metadata": {}
        },
        {
          "output_type": "display_data",
          "data": {
            "text/plain": [
              "Downloading (…)olve/main/merges.txt:   0%|          | 0.00/1.50M [00:00<?, ?B/s]"
            ],
            "application/vnd.jupyter.widget-view+json": {
              "version_major": 2,
              "version_minor": 0,
              "model_id": "c554d13caa0a4802b144f1187210f879"
            }
          },
          "metadata": {}
        },
        {
          "output_type": "display_data",
          "data": {
            "text/plain": [
              "Downloading (…)/main/tokenizer.json:   0%|          | 0.00/4.52M [00:00<?, ?B/s]"
            ],
            "application/vnd.jupyter.widget-view+json": {
              "version_major": 2,
              "version_minor": 0,
              "model_id": "fdeec7ca72064f47a3c3ce6d616b5852"
            }
          },
          "metadata": {}
        },
        {
          "output_type": "display_data",
          "data": {
            "text/plain": [
              "Downloading (…)lve/main/config.json:   0%|          | 0.00/843 [00:00<?, ?B/s]"
            ],
            "application/vnd.jupyter.widget-view+json": {
              "version_major": 2,
              "version_minor": 0,
              "model_id": "699396af24ef43f19ffb2a4854ac1557"
            }
          },
          "metadata": {}
        },
        {
          "output_type": "display_data",
          "data": {
            "text/plain": [
              "Downloading (…)\"pytorch_model.bin\";:   0%|          | 0.00/553M [00:00<?, ?B/s]"
            ],
            "application/vnd.jupyter.widget-view+json": {
              "version_major": 2,
              "version_minor": 0,
              "model_id": "9e1771b5b2bf4dac9a4f3b01baa81ae2"
            }
          },
          "metadata": {}
        }
      ],
      "source": [
        "import torch\n",
        "from torch.utils.data import DataLoader\n",
        "from transformers import GPT2TokenizerFast, GPT2LMHeadModel\n",
        "from arabert.preprocess import ArabertPreprocessor\n",
        "\n",
        "# Preprocess your dataset\n",
        "MODEL_NAME = \"aubmindlab/aragpt2-base\"\n",
        "arabert_prep = ArabertPreprocessor(model_name=MODEL_NAME)\n",
        "tokenizer = GPT2TokenizerFast.from_pretrained(MODEL_NAME)\n",
        "model = GPT2LMHeadModel.from_pretrained(MODEL_NAME)"
      ]
    },
    {
      "cell_type": "code",
      "source": [
        "# The dictionary for defining special tokens\n",
        "special_tokens = {\n",
        "    'bos_token': \"<bos>\",\n",
        "    'additional_special_tokens': [\"<speaker1>\", \"<speaker2>\"]\n",
        "}\n",
        "\n",
        "num_new_tokens = tokenizer.add_special_tokens(special_tokens)\n",
        "vocab = tokenizer.get_vocab()\n",
        "model.resize_token_embeddings(len(vocab))"
      ],
      "metadata": {
        "colab": {
          "base_uri": "https://localhost:8080/"
        },
        "id": "Gxf34AoLJVWx",
        "outputId": "421dfb8f-f99f-459d-f361-71acbfc01ab5"
      },
      "execution_count": null,
      "outputs": [
        {
          "output_type": "execute_result",
          "data": {
            "text/plain": [
              "Embedding(64003, 768)"
            ]
          },
          "metadata": {},
          "execution_count": 6
        }
      ]
    },
    {
      "cell_type": "code",
      "source": [
        "# len(vocab)\n",
        "# len(tokenizer.get_vocab())\n",
        "# tokenizer.vocab_size"
      ],
      "metadata": {
        "id": "l7Z4rbX4WjIQ"
      },
      "execution_count": null,
      "outputs": []
    },
    {
      "cell_type": "code",
      "source": [
        "# token = tokenizer.encode_plus(\n",
        "#     conv, \n",
        "#     max_length=256, \n",
        "#     truncation=True, \n",
        "#     padding='max_length', \n",
        "#     add_special_tokens=True,\n",
        "#     return_tensors='tf'\n",
        "# )"
      ],
      "metadata": {
        "id": "uGp0pc2DYon6"
      },
      "execution_count": null,
      "outputs": []
    },
    {
      "cell_type": "code",
      "execution_count": null,
      "metadata": {
        "id": "0OXGkeECdD5y"
      },
      "outputs": [],
      "source": [
        "# from tqdm import tqdm\n",
        "\n",
        "# def generate_data(dials, ids, masks, tokenizer):\n",
        "#     for i, text in tqdm(enumerate(dials)):\n",
        "#         tokenized_text = tokenizer.encode_plus(\n",
        "#             text,\n",
        "#             max_length=256, \n",
        "#             truncation=True, \n",
        "#             padding='max_length', \n",
        "#             add_special_tokens=True,\n",
        "#             return_tensors='tf'\n",
        "#         )\n",
        "#         ids[i, :] = tokenized_text.input_ids\n",
        "#         tokenized_text.token_type_ids\n",
        "#         masks[i, :] = tokenized_text.attention_mask\n",
        "#     return ids, masks"
      ]
    },
    {
      "cell_type": "code",
      "source": [
        "from tqdm import tqdm\n",
        "def tokenize_arabic_data(prefix):\n",
        "  print(f\"Loading the {prefix} utters...\")\n",
        "\n",
        "  dials = []\n",
        "  # Load list from JSON file\n",
        "  with open('/content/drive/My Drive/Chatbot data/cleaned_'+prefix+'_utters.json', 'r') as f:\n",
        "    dials = json.load(f)\n",
        "  \n",
        "  print(f\"Tokenize the {prefix} utters...\")\n",
        "  ids = []\n",
        "  for dial in tqdm(dials):\n",
        "    dial_ids = []\n",
        "    for utter in dial:\n",
        "      proecessed_utter = utter\n",
        "      tokens = tokenizer.tokenize(proecessed_utter)\n",
        "      token_ids = tokenizer.convert_tokens_to_ids(tokens)\n",
        "      dial_ids.append(token_ids)\n",
        "    ids.append(dial_ids)\n",
        "  \n",
        "  assert len(ids) == len(dials)\n",
        "  # with open(f\"/content/train_utters_ids.json\", 'w') as f:\n",
        "  #   json.dump(ids, f)\n",
        "  # print(f\"Saved the {prefix} ids.\")\n",
        "  return ids "
      ],
      "metadata": {
        "id": "VQvhpiSpMLch"
      },
      "execution_count": null,
      "outputs": []
    },
    {
      "cell_type": "code",
      "source": [
        "train_dials = tokenize_arabic_data('train')"
      ],
      "metadata": {
        "colab": {
          "base_uri": "https://localhost:8080/"
        },
        "id": "tIrRDw7EuPfK",
        "outputId": "a705b079-bc75-4749-9dd9-8ec5ba5638ac"
      },
      "execution_count": null,
      "outputs": [
        {
          "output_type": "stream",
          "name": "stdout",
          "text": [
            "Loading the train utters...\n",
            "Tokenize the train utters...\n"
          ]
        },
        {
          "output_type": "stream",
          "name": "stderr",
          "text": [
            "100%|██████████| 52613/52613 [00:38<00:00, 1367.89it/s]\n"
          ]
        }
      ]
    },
    {
      "cell_type": "code",
      "source": [
        "len(train_dials)"
      ],
      "metadata": {
        "colab": {
          "base_uri": "https://localhost:8080/"
        },
        "id": "4CS5YTgfOzat",
        "outputId": "a625fbfa-d80e-4ac6-c6e4-d2ce21b6d1d2"
      },
      "execution_count": null,
      "outputs": [
        {
          "output_type": "execute_result",
          "data": {
            "text/plain": [
              "52613"
            ]
          },
          "metadata": {},
          "execution_count": 11
        }
      ]
    },
    {
      "cell_type": "code",
      "source": [
        "valid_dials = tokenize_arabic_data('valid')"
      ],
      "metadata": {
        "colab": {
          "base_uri": "https://localhost:8080/"
        },
        "id": "UfOXWQlPuSY1",
        "outputId": "feec01b1-8fb8-47a6-ae66-b19b7912c5ea"
      },
      "execution_count": null,
      "outputs": [
        {
          "output_type": "stream",
          "name": "stdout",
          "text": [
            "Loading the valid utters...\n",
            "Tokenize the valid utters...\n"
          ]
        },
        {
          "output_type": "stream",
          "name": "stderr",
          "text": [
            "100%|██████████| 9287/9287 [00:06<00:00, 1396.97it/s]\n"
          ]
        }
      ]
    },
    {
      "cell_type": "code",
      "source": [
        "len(valid_dials)"
      ],
      "metadata": {
        "colab": {
          "base_uri": "https://localhost:8080/"
        },
        "id": "dfEyDZkEuUlw",
        "outputId": "1d58c15a-5d4c-49ce-b64f-2d8d103b3734"
      },
      "execution_count": null,
      "outputs": [
        {
          "output_type": "execute_result",
          "data": {
            "text/plain": [
              "9287"
            ]
          },
          "metadata": {},
          "execution_count": 13
        }
      ]
    },
    {
      "cell_type": "code",
      "source": [
        "sp1_id, sp2_id = num_new_tokens - 2, num_new_tokens - 1\n",
        "bos_id = tokenizer.bos_token_id\n",
        "eos_id = tokenizer.eos_token_id\n",
        "max_len = 1024\n",
        "train_max_turns = 49\n",
        "valid_max_turns = 31"
      ],
      "metadata": {
        "id": "AIEA6oKhNkej"
      },
      "execution_count": null,
      "outputs": []
    },
    {
      "cell_type": "code",
      "source": [
        "print(sp1_id)\n",
        "print(sp2_id)\n",
        "print(bos_id)\n",
        "print(eos_id)"
      ],
      "metadata": {
        "colab": {
          "base_uri": "https://localhost:8080/"
        },
        "id": "YNYP8wKBURZF",
        "outputId": "84c07733-d656-4ed5-bd8f-52890eef2271"
      },
      "execution_count": null,
      "outputs": [
        {
          "output_type": "stream",
          "name": "stdout",
          "text": [
            "1\n",
            "2\n",
            "64000\n",
            "0\n"
          ]
        }
      ]
    },
    {
      "cell_type": "code",
      "source": [
        "def prepare_data(dials, sp1_id, sp2_id, bos_id, eos_id, max_turns, max_len):\n",
        "    from itertools import chain\n",
        "    \n",
        "    rinput_ids = []  # (N, L)\n",
        "    rtoken_type_ids = []  # (N, L)\n",
        "    rlabels = []  # (N, L)\n",
        "\n",
        "    # The list \"dials\" is a list of dialogues which is lists containing tokenized utterances. \n",
        "    for dial in dials:\n",
        "        hists = []\n",
        "        for u, utter in enumerate(dial):\n",
        "            if u % 2 == 0:\n",
        "                hists.append([sp1_id] + utter)  # Speaker 1: User\n",
        "            else:\n",
        "                hists.append([sp2_id] + utter)  # Speaker 2: System\n",
        "\n",
        "        for h in range(len(hists)):\n",
        "            if hists[h][0] == sp2_id:\n",
        "                start = max(0, h-max_turns+1)\n",
        "                for s in range(start, h):\n",
        "                    contexts = hists[s:h+1]\n",
        "                    input_ids = [bos_id] + list(chain.from_iterable(contexts)) + [eos_id]\n",
        "\n",
        "                    if len(input_ids) <= max_len:\n",
        "                        start_sp_id, next_sp_id = contexts[0][0], contexts[1][0]\n",
        "                        token_type_ids = [\n",
        "                            [start_sp_id] * len(ctx) if c % 2 == 0\n",
        "                            else [next_sp_id] * len(ctx)\n",
        "                            for c, ctx in enumerate(contexts)\n",
        "                        ]\n",
        "                        assert token_type_ids[-1][0] == sp2_id\n",
        "                        \n",
        "                        token_type_ids = \\\n",
        "                            [start_sp_id] + \\\n",
        "                            list(chain.from_iterable(token_type_ids)) + \\\n",
        "                            [sp2_id]\n",
        "                        assert len(input_ids) == len(token_type_ids)\n",
        "\n",
        "                        labels = [\n",
        "                            [-100] * len(ctx) if c < len(contexts)-1\n",
        "                            else [-100] + ctx[1:]\n",
        "                            for c, ctx in enumerate(contexts)\n",
        "                        ]\n",
        "                        assert labels[-1][1:] == contexts[-1][1:]\n",
        "                        \n",
        "                        labels = [-100] + list(chain.from_iterable(labels)) + [eos_id]\n",
        "                        assert len(input_ids) == len(labels)\n",
        "\n",
        "                        rinput_ids.append(input_ids)\n",
        "                        rtoken_type_ids.append(token_type_ids)\n",
        "                        rlabels.append(labels)\n",
        "\n",
        "                        break\n",
        "    return rinput_ids, rtoken_type_ids, rlabels\n"
      ],
      "metadata": {
        "id": "0P1GhVjgxxIo"
      },
      "execution_count": null,
      "outputs": []
    },
    {
      "cell_type": "code",
      "source": [
        "conv = cleaned_train_utters[0:2]"
      ],
      "metadata": {
        "id": "Qky4Vhcmub2t"
      },
      "execution_count": null,
      "outputs": []
    },
    {
      "cell_type": "code",
      "source": [
        "# ids = []\n",
        "# for dial in conv:\n",
        "#   dial_ids = []\n",
        "#   for utter in dial:\n",
        "#     proecessed_utter = utter\n",
        "#     tokens = tokenizer.tokenize(proecessed_utter)\n",
        "#     token_ids = tokenizer.convert_tokens_to_ids(tokens)\n",
        "#     dial_ids.append(token_ids)\n",
        "#   ids.append(dial_ids)"
      ],
      "metadata": {
        "id": "TM60flhimqqP"
      },
      "execution_count": null,
      "outputs": []
    },
    {
      "cell_type": "code",
      "source": [
        "# for lids in ids:\n",
        "#   print(lids)"
      ],
      "metadata": {
        "id": "Aao3TrSUxEVw"
      },
      "execution_count": null,
      "outputs": []
    },
    {
      "cell_type": "code",
      "source": [
        "input_ids_train, token_type_ids_train, labels_train = prepare_data(train_dials, sp1_id, sp2_id, bos_id, eos_id, train_max_turns, max_len)\n",
        "\n",
        "input_ids_val, token_type_ids_val, labels_val = prepare_data(valid_dials, sp1_id, sp2_id, bos_id, eos_id, valid_max_turns, max_len)"
      ],
      "metadata": {
        "id": "wqXsIn12kL9y"
      },
      "execution_count": null,
      "outputs": []
    },
    {
      "cell_type": "code",
      "source": [
        "# print(input_ids_train)\n",
        "# print(token_type_ids_train)\n",
        "# print(labels_train)"
      ],
      "metadata": {
        "id": "ju-sjfSwom9F"
      },
      "execution_count": null,
      "outputs": []
    },
    {
      "cell_type": "code",
      "source": [
        "for inp in input_ids_train:\n",
        "  print(inp)\n",
        "  break"
      ],
      "metadata": {
        "colab": {
          "base_uri": "https://localhost:8080/"
        },
        "id": "NLvkqXvA3OMl",
        "outputId": "e95d0255-4ad3-4ed9-c0ba-f0215d989d36"
      },
      "execution_count": null,
      "outputs": [
        {
          "output_type": "stream",
          "name": "stdout",
          "text": [
            "[64000, 1, 17141, 4495, 394, 7954, 26004, 881, 398, 476, 598, 12263, 2, 5504, 3784, 424, 542, 2567, 335, 1174, 305, 4272, 1354, 4851, 586, 453, 2438, 0]\n"
          ]
        }
      ]
    },
    {
      "cell_type": "code",
      "source": [
        "class PadCollate():\n",
        "    def __init__(self, eos_id):\n",
        "        self.eos_id = eos_id\n",
        "        \n",
        "    def pad_collate(self, batch):\n",
        "        input_ids, token_type_ids, labels =[], [], []\n",
        "        for idx, seqs in enumerate(batch):\n",
        "            input_ids.append(torch.LongTensor(seqs[0]))\n",
        "            token_type_ids.append(torch.LongTensor(seqs[1]))\n",
        "            labels.append(torch.LongTensor(seqs[2]))\n",
        "            \n",
        "        input_ids = torch.nn.utils.rnn.pad_sequence(\n",
        "          input_ids, batch_first=True, padding_value=self.eos_id\n",
        "        )\n",
        "        token_type_ids = torch.nn.utils.rnn.pad_sequence(\n",
        "          token_type_ids, batch_first=True, padding_value=self.eos_id\n",
        "        )\n",
        "        labels = torch.nn.utils.rnn.pad_sequence(\n",
        "          labels, batch_first=True, padding_value=-100\n",
        "        )\n",
        "    \n",
        "        return input_ids, token_type_ids, labels"
      ],
      "metadata": {
        "id": "xXXUAJBYQVrU"
      },
      "execution_count": null,
      "outputs": []
    },
    {
      "cell_type": "code",
      "source": [
        "class PadCollate():\n",
        "    def __init__(self, eos_id):\n",
        "        self.eos_id = eos_id\n",
        "        \n",
        "    def pad_collate(self, batch):\n",
        "        input_ids, token_type_ids, labels =[], [], []\n",
        "        for idx, seqs in enumerate(batch):\n",
        "            input_ids.append(torch.LongTensor(seqs[0]))\n",
        "            token_type_ids.append(torch.LongTensor(seqs[1]))\n",
        "            labels.append(torch.LongTensor(seqs[2]))\n",
        "            \n",
        "        input_ids = torch.nn.utils.rnn.pad_sequence(\n",
        "          input_ids, batch_first=True, padding_value=self.eos_id\n",
        "        )\n",
        "        token_type_ids = torch.nn.utils.rnn.pad_sequence(\n",
        "          token_type_ids, batch_first=True, padding_value=self.eos_id\n",
        "        )\n",
        "        labels = torch.nn.utils.rnn.pad_sequence(\n",
        "          labels, batch_first=True, padding_value=-100\n",
        "        )\n",
        "    \n",
        "        return input_ids, token_type_ids, labels\n",
        "\n",
        "pad_collate = PadCollate(eos_id)"
      ],
      "metadata": {
        "id": "aKUQmt2bgkM3"
      },
      "execution_count": null,
      "outputs": []
    },
    {
      "cell_type": "code",
      "source": [
        "# # Create a dataloader for the training set\n",
        "# train_dataset = MyDataset(input_ids_train, token_type_ids_train, labels_train)\n",
        "# train_dataloader = DataLoader(train_dataset, batch_size=16, shuffle=True, collate_fn=pad_collate.pad_collate)"
      ],
      "metadata": {
        "id": "jB112zkTzVEb"
      },
      "execution_count": null,
      "outputs": []
    },
    {
      "cell_type": "code",
      "source": [
        "# for input_ids, token_type_ids, labels in train_dataloader:\n",
        "#   print(input_ids[0])"
      ],
      "metadata": {
        "id": "W5Ih5oQczXum"
      },
      "execution_count": null,
      "outputs": []
    },
    {
      "cell_type": "markdown",
      "source": [
        "Model fine tuning"
      ],
      "metadata": {
        "id": "O9U1ioKqjQNj"
      }
    },
    {
      "cell_type": "code",
      "source": [
        "import torch\n",
        "from torch import optim\n",
        "from torch.nn import CrossEntropyLoss\n",
        "from torch.utils.data import DataLoader\n",
        "from torch.utils.tensorboard import SummaryWriter\n",
        "from torch.utils.data import Dataset"
      ],
      "metadata": {
        "id": "0KxbqhkggxK0"
      },
      "execution_count": null,
      "outputs": []
    },
    {
      "cell_type": "code",
      "source": [
        "# Define the loss function, and optimizer\n",
        "criterion = CrossEntropyLoss()\n",
        "optimizer = optim.Adam(model.parameters(), lr=1e-4)"
      ],
      "metadata": {
        "id": "opFy9lKFpVxJ"
      },
      "execution_count": null,
      "outputs": []
    },
    {
      "cell_type": "code",
      "source": [
        "class MyDataset(Dataset):\n",
        "    def __init__(self, input_ids, token_type_ids, labels):\n",
        "        self.input_ids = input_ids\n",
        "        self.token_type_ids = token_type_ids\n",
        "        self.labels = labels\n",
        "\n",
        "    def __getitem__(self, index):\n",
        "        input_ids = self.input_ids[index]\n",
        "        token_type_ids = self.token_type_ids[index]\n",
        "        label = self.labels[index]\n",
        "        return input_ids, token_type_ids, label\n",
        "\n",
        "    def __len__(self):\n",
        "        return len(self.input_ids)"
      ],
      "metadata": {
        "id": "dlWDGk3zkSTo"
      },
      "execution_count": null,
      "outputs": []
    },
    {
      "cell_type": "code",
      "source": [
        "# Create a dataloader for the training set\n",
        "train_dataset = MyDataset(input_ids_train, token_type_ids_train, labels_train)\n",
        "train_dataloader = DataLoader(train_dataset, batch_size=16, shuffle=True, collate_fn=pad_collate.pad_collate)\n",
        "\n",
        "# Create a dataloader for the validation set\n",
        "val_dataset = MyDataset(input_ids_val, token_type_ids_val, labels_val)\n",
        "val_dataloader = DataLoader(val_dataset, batch_size=16, shuffle=False, collate_fn=pad_collate.pad_collate)"
      ],
      "metadata": {
        "id": "qKIMy9gupYJK"
      },
      "execution_count": null,
      "outputs": []
    },
    {
      "cell_type": "code",
      "source": [
        "# Initialize a Tensorboard writer\n",
        "writer = SummaryWriter(log_dir='./runs')"
      ],
      "metadata": {
        "id": "f8VRJFvrpadp"
      },
      "execution_count": null,
      "outputs": []
    },
    {
      "cell_type": "code",
      "source": [
        "for input_ids, token_type_ids, labels in train_dataloader:\n",
        "    print(\"input_ids shape: \", input_ids.shape)\n",
        "    print(\"token_type_ids shape: \", token_type_ids.shape)\n",
        "    print(\"labels shape: \", labels.shape)\n",
        "    break"
      ],
      "metadata": {
        "colab": {
          "base_uri": "https://localhost:8080/"
        },
        "id": "vSKIKGVSzbv5",
        "outputId": "0fd21bec-277f-4e47-b6fd-da33c9f2dc9c"
      },
      "execution_count": null,
      "outputs": [
        {
          "output_type": "stream",
          "name": "stdout",
          "text": [
            "input_ids shape:  torch.Size([16, 146])\n",
            "token_type_ids shape:  torch.Size([16, 146])\n",
            "labels shape:  torch.Size([16, 146])\n"
          ]
        }
      ]
    },
    {
      "cell_type": "code",
      "source": [
        "# assert tokenizer.eos_token_id < tokenizer.vocab_size"
      ],
      "metadata": {
        "id": "KUTt0eZZE3c3"
      },
      "execution_count": null,
      "outputs": []
    },
    {
      "cell_type": "code",
      "source": [
        "# input_ids = input_ids[0]\n",
        "# for idx in torch.where(input_ids >= tokenizer.vocab_size):\n",
        "#     print(f\"input_ids[{idx}] = {input_ids[idx]} is greater than vocab_size = {tokenizer.vocab_size}\")"
      ],
      "metadata": {
        "id": "DZTKYSSmGSov"
      },
      "execution_count": null,
      "outputs": []
    },
    {
      "cell_type": "code",
      "source": [
        "# Start training\n",
        "for epoch in range(1):\n",
        "    train_loss = 0\n",
        "    for input_ids, token_type_ids, labels in train_dataloader:\n",
        "        optimizer.zero_grad()\n",
        "        outputs = model(input_ids[0], token_type_ids=token_type_ids[0])\n",
        "        # Extract the logits from the output object\n",
        "        logits = outputs[0]\n",
        "        # Calculate the cross entropy loss\n",
        "        loss = criterion(logits, labels[0])\n",
        "        loss.backward()\n",
        "        optimizer.step()\n",
        "        train_loss += loss.item()\n",
        "\n",
        "    # Compute perplexity on validation set\n",
        "    val_loss = 0\n",
        "    with torch.no_grad():\n",
        "        for input_ids, token_type_ids, labels in val_dataloader:\n",
        "            outputs = model(input_ids, token_type_ids)\n",
        "            val_loss += criterion(outputs, labels).item()\n",
        "        perplexity = torch.exp(val_loss / len(val_dataloader))\n",
        "\n",
        "    # Write training loss and validation perplexity to Tensorboard\n",
        "    writer.add_scalar('Train Loss', train_loss / len(train_dataloader), epoch)\n",
        "    writer.add_scalar('Validation Perplexity', perplexity, epoch)"
      ],
      "metadata": {
        "id": "Nk2-j-LUpTLM"
      },
      "execution_count": null,
      "outputs": []
    },
    {
      "cell_type": "code",
      "source": [
        "# Save the trained model\n",
        "torch.save(model.state_dict(), 'trained_model_gpt2_arabic_chatbot.pth')"
      ],
      "metadata": {
        "id": "9zKtSzJljdIX"
      },
      "execution_count": null,
      "outputs": []
    },
    {
      "cell_type": "code",
      "source": [
        "from torch.nn import functional as F\n",
        "\n",
        "import torch\n",
        "\n",
        "def nucleus_sampling(input_ids, token_type_ids, input_len):\n",
        "        output_ids = []\n",
        "        for pos in range(input_len, max_len):\n",
        "            output = model(\n",
        "              input_ids=input_ids, \n",
        "              token_type_ids=token_type_ids\n",
        "            )[0][:, pos-1]  # (1, V)\n",
        "            output = F.softmax(output, dim=-1)  # (1, V)\n",
        "            \n",
        "            sorted_probs, sorted_idxs = torch.sort(output, descending=True)\n",
        "            cumsum_probs = torch.cumsum(sorted_probs, dim=-1)  # (1, V)\n",
        "            idx_remove = cumsum_probs > p\n",
        "            idx_remove[:, 1:] = idx_remove[:, :-1].clone()\n",
        "            idx_remove[:, 0] = False\n",
        "            sorted_probs[idx_remove] = 0.0\n",
        "            sorted_probs /= torch.sum(sorted_probs, dim=-1, keepdim=True)  # (1, V)\n",
        "            \n",
        "            probs = torch.zeros(output.shape).scatter_(-1, sorted_idxs, sorted_probs)  # (1, V)\n",
        "            idx = torch.multinomial(probs, 1)  # (1, 1)\n",
        "            \n",
        "            idx_item = idx.squeeze(-1).squeeze(-1).item()\n",
        "            output_ids.append(idx_item)\n",
        "            \n",
        "            if idx_item == eos_id:\n",
        "                break\n",
        "                \n",
        "            input_ids = torch.cat((input_ids, idx), dim=-1)\n",
        "            next_type_id = torch.LongTensor([[sp2_id]])\n",
        "            token_type_ids = torch.cat((token_type_ids, next_type_id), dim=-1)\n",
        "            assert input_ids.shape == token_type_ids.shape\n",
        "            \n",
        "        return output_ids"
      ],
      "metadata": {
        "id": "I-yi1Kz4r1yn"
      },
      "execution_count": null,
      "outputs": []
    },
    {
      "cell_type": "code",
      "source": [
        "prompt = 'السلام عليكم، كيف الحال؟'\n",
        "input_ids = torch.LongTensor([tokenizer.encode(prompt, add_special_tokens=True)])\n",
        "token_type_ids = torch.LongTensor([[sp1_id] * input_ids.shape[1]])\n",
        "input_len = len(input_ids[0])\n",
        "print(input_ids)\n",
        "print(input_ids.shape)\n",
        "print(token_type_ids)\n",
        "print(token_type_ids.shape)\n",
        "print(input_len)\n",
        "print(tokenizer.decode(input_ids[0].tolist()))"
      ],
      "metadata": {
        "colab": {
          "base_uri": "https://localhost:8080/"
        },
        "id": "WspkYtoyc50p",
        "outputId": "762b6fc9-576c-40dd-bc20-ae9b153cd199"
      },
      "execution_count": null,
      "outputs": [
        {
          "output_type": "stream",
          "name": "stdout",
          "text": [
            "tensor([[21993,  4213,   152,   238,  1688,  5152,   152,   257]])\n",
            "torch.Size([1, 8])\n",
            "tensor([[1, 1, 1, 1, 1, 1, 1, 1]])\n",
            "torch.Size([1, 8])\n",
            "8\n",
            "السلام عليكم، كيف الحال؟\n"
          ]
        }
      ]
    },
    {
      "cell_type": "code",
      "source": [
        "max_len=20 \n",
        "p=0.9\n",
        "eos_id=eos_id\n",
        "sp2_id=sp2_id\n",
        "output_ids = nucleus_sampling(input_ids, token_type_ids, input_len)\n",
        "print(output_ids)"
      ],
      "metadata": {
        "colab": {
          "base_uri": "https://localhost:8080/"
        },
        "id": "vpPVo_ubf5bx",
        "outputId": "8e9bf398-02fc-4c90-e7e7-9792353ef4e7"
      },
      "execution_count": null,
      "outputs": [
        {
          "output_type": "stream",
          "name": "stdout",
          "text": [
            "[290, 290, 290, 290, 290, 290, 290, 290, 290, 290, 290, 290]\n"
          ]
        }
      ]
    },
    {
      "cell_type": "code",
      "source": [
        "generated_utterance = tokenizer.decode(output_ids)\n",
        "print(generated_utterance)"
      ],
      "metadata": {
        "colab": {
          "base_uri": "https://localhost:8080/"
        },
        "id": "aYoIMJNCfm_T",
        "outputId": "a7ada9b0-94ac-4e9a-802c-c372612da315"
      },
      "execution_count": null,
      "outputs": [
        {
          "output_type": "stream",
          "name": "stdout",
          "text": [
            "حححححححححححح\n"
          ]
        }
      ]
    }
  ],
  "metadata": {
    "colab": {
      "provenance": [],
      "machine_shape": "hm"
    },
    "gpuClass": "standard",
    "kernelspec": {
      "display_name": "Python 3",
      "name": "python3"
    },
    "language_info": {
      "name": "python"
    },
    "accelerator": "GPU",
    "widgets": {
      "application/vnd.jupyter.widget-state+json": {
        "86effd49061046779ff1f0d506ba58f6": {
          "model_module": "@jupyter-widgets/controls",
          "model_name": "HBoxModel",
          "model_module_version": "1.5.0",
          "state": {
            "_dom_classes": [],
            "_model_module": "@jupyter-widgets/controls",
            "_model_module_version": "1.5.0",
            "_model_name": "HBoxModel",
            "_view_count": null,
            "_view_module": "@jupyter-widgets/controls",
            "_view_module_version": "1.5.0",
            "_view_name": "HBoxView",
            "box_style": "",
            "children": [
              "IPY_MODEL_cce5e9944c274e69951a2cfef8ed1f4f",
              "IPY_MODEL_dab5abce50234609846572f9a958f56a",
              "IPY_MODEL_2c6bc7f3fa264a93bb9c76e23a405f8c"
            ],
            "layout": "IPY_MODEL_dc14af69868748478f1d2c6e43b5aa0b"
          }
        },
        "cce5e9944c274e69951a2cfef8ed1f4f": {
          "model_module": "@jupyter-widgets/controls",
          "model_name": "HTMLModel",
          "model_module_version": "1.5.0",
          "state": {
            "_dom_classes": [],
            "_model_module": "@jupyter-widgets/controls",
            "_model_module_version": "1.5.0",
            "_model_name": "HTMLModel",
            "_view_count": null,
            "_view_module": "@jupyter-widgets/controls",
            "_view_module_version": "1.5.0",
            "_view_name": "HTMLView",
            "description": "",
            "description_tooltip": null,
            "layout": "IPY_MODEL_e4e0501162a64540ab817760d709c5c3",
            "placeholder": "​",
            "style": "IPY_MODEL_f0643efe509a4b2b955655b0cfa53f4d",
            "value": "Downloading (…)olve/main/vocab.json: 100%"
          }
        },
        "dab5abce50234609846572f9a958f56a": {
          "model_module": "@jupyter-widgets/controls",
          "model_name": "FloatProgressModel",
          "model_module_version": "1.5.0",
          "state": {
            "_dom_classes": [],
            "_model_module": "@jupyter-widgets/controls",
            "_model_module_version": "1.5.0",
            "_model_name": "FloatProgressModel",
            "_view_count": null,
            "_view_module": "@jupyter-widgets/controls",
            "_view_module_version": "1.5.0",
            "_view_name": "ProgressView",
            "bar_style": "success",
            "description": "",
            "description_tooltip": null,
            "layout": "IPY_MODEL_d45a72dd037b46758a2ab22ff3aad809",
            "max": 1935314,
            "min": 0,
            "orientation": "horizontal",
            "style": "IPY_MODEL_d41ac11c3f9b4156a65e7a2740465b82",
            "value": 1935314
          }
        },
        "2c6bc7f3fa264a93bb9c76e23a405f8c": {
          "model_module": "@jupyter-widgets/controls",
          "model_name": "HTMLModel",
          "model_module_version": "1.5.0",
          "state": {
            "_dom_classes": [],
            "_model_module": "@jupyter-widgets/controls",
            "_model_module_version": "1.5.0",
            "_model_name": "HTMLModel",
            "_view_count": null,
            "_view_module": "@jupyter-widgets/controls",
            "_view_module_version": "1.5.0",
            "_view_name": "HTMLView",
            "description": "",
            "description_tooltip": null,
            "layout": "IPY_MODEL_962d8e466b0a4247888ea825cf3d88d4",
            "placeholder": "​",
            "style": "IPY_MODEL_dbca65de989d4759a8e3efe8b4b91b72",
            "value": " 1.94M/1.94M [00:00&lt;00:00, 4.49MB/s]"
          }
        },
        "dc14af69868748478f1d2c6e43b5aa0b": {
          "model_module": "@jupyter-widgets/base",
          "model_name": "LayoutModel",
          "model_module_version": "1.2.0",
          "state": {
            "_model_module": "@jupyter-widgets/base",
            "_model_module_version": "1.2.0",
            "_model_name": "LayoutModel",
            "_view_count": null,
            "_view_module": "@jupyter-widgets/base",
            "_view_module_version": "1.2.0",
            "_view_name": "LayoutView",
            "align_content": null,
            "align_items": null,
            "align_self": null,
            "border": null,
            "bottom": null,
            "display": null,
            "flex": null,
            "flex_flow": null,
            "grid_area": null,
            "grid_auto_columns": null,
            "grid_auto_flow": null,
            "grid_auto_rows": null,
            "grid_column": null,
            "grid_gap": null,
            "grid_row": null,
            "grid_template_areas": null,
            "grid_template_columns": null,
            "grid_template_rows": null,
            "height": null,
            "justify_content": null,
            "justify_items": null,
            "left": null,
            "margin": null,
            "max_height": null,
            "max_width": null,
            "min_height": null,
            "min_width": null,
            "object_fit": null,
            "object_position": null,
            "order": null,
            "overflow": null,
            "overflow_x": null,
            "overflow_y": null,
            "padding": null,
            "right": null,
            "top": null,
            "visibility": null,
            "width": null
          }
        },
        "e4e0501162a64540ab817760d709c5c3": {
          "model_module": "@jupyter-widgets/base",
          "model_name": "LayoutModel",
          "model_module_version": "1.2.0",
          "state": {
            "_model_module": "@jupyter-widgets/base",
            "_model_module_version": "1.2.0",
            "_model_name": "LayoutModel",
            "_view_count": null,
            "_view_module": "@jupyter-widgets/base",
            "_view_module_version": "1.2.0",
            "_view_name": "LayoutView",
            "align_content": null,
            "align_items": null,
            "align_self": null,
            "border": null,
            "bottom": null,
            "display": null,
            "flex": null,
            "flex_flow": null,
            "grid_area": null,
            "grid_auto_columns": null,
            "grid_auto_flow": null,
            "grid_auto_rows": null,
            "grid_column": null,
            "grid_gap": null,
            "grid_row": null,
            "grid_template_areas": null,
            "grid_template_columns": null,
            "grid_template_rows": null,
            "height": null,
            "justify_content": null,
            "justify_items": null,
            "left": null,
            "margin": null,
            "max_height": null,
            "max_width": null,
            "min_height": null,
            "min_width": null,
            "object_fit": null,
            "object_position": null,
            "order": null,
            "overflow": null,
            "overflow_x": null,
            "overflow_y": null,
            "padding": null,
            "right": null,
            "top": null,
            "visibility": null,
            "width": null
          }
        },
        "f0643efe509a4b2b955655b0cfa53f4d": {
          "model_module": "@jupyter-widgets/controls",
          "model_name": "DescriptionStyleModel",
          "model_module_version": "1.5.0",
          "state": {
            "_model_module": "@jupyter-widgets/controls",
            "_model_module_version": "1.5.0",
            "_model_name": "DescriptionStyleModel",
            "_view_count": null,
            "_view_module": "@jupyter-widgets/base",
            "_view_module_version": "1.2.0",
            "_view_name": "StyleView",
            "description_width": ""
          }
        },
        "d45a72dd037b46758a2ab22ff3aad809": {
          "model_module": "@jupyter-widgets/base",
          "model_name": "LayoutModel",
          "model_module_version": "1.2.0",
          "state": {
            "_model_module": "@jupyter-widgets/base",
            "_model_module_version": "1.2.0",
            "_model_name": "LayoutModel",
            "_view_count": null,
            "_view_module": "@jupyter-widgets/base",
            "_view_module_version": "1.2.0",
            "_view_name": "LayoutView",
            "align_content": null,
            "align_items": null,
            "align_self": null,
            "border": null,
            "bottom": null,
            "display": null,
            "flex": null,
            "flex_flow": null,
            "grid_area": null,
            "grid_auto_columns": null,
            "grid_auto_flow": null,
            "grid_auto_rows": null,
            "grid_column": null,
            "grid_gap": null,
            "grid_row": null,
            "grid_template_areas": null,
            "grid_template_columns": null,
            "grid_template_rows": null,
            "height": null,
            "justify_content": null,
            "justify_items": null,
            "left": null,
            "margin": null,
            "max_height": null,
            "max_width": null,
            "min_height": null,
            "min_width": null,
            "object_fit": null,
            "object_position": null,
            "order": null,
            "overflow": null,
            "overflow_x": null,
            "overflow_y": null,
            "padding": null,
            "right": null,
            "top": null,
            "visibility": null,
            "width": null
          }
        },
        "d41ac11c3f9b4156a65e7a2740465b82": {
          "model_module": "@jupyter-widgets/controls",
          "model_name": "ProgressStyleModel",
          "model_module_version": "1.5.0",
          "state": {
            "_model_module": "@jupyter-widgets/controls",
            "_model_module_version": "1.5.0",
            "_model_name": "ProgressStyleModel",
            "_view_count": null,
            "_view_module": "@jupyter-widgets/base",
            "_view_module_version": "1.2.0",
            "_view_name": "StyleView",
            "bar_color": null,
            "description_width": ""
          }
        },
        "962d8e466b0a4247888ea825cf3d88d4": {
          "model_module": "@jupyter-widgets/base",
          "model_name": "LayoutModel",
          "model_module_version": "1.2.0",
          "state": {
            "_model_module": "@jupyter-widgets/base",
            "_model_module_version": "1.2.0",
            "_model_name": "LayoutModel",
            "_view_count": null,
            "_view_module": "@jupyter-widgets/base",
            "_view_module_version": "1.2.0",
            "_view_name": "LayoutView",
            "align_content": null,
            "align_items": null,
            "align_self": null,
            "border": null,
            "bottom": null,
            "display": null,
            "flex": null,
            "flex_flow": null,
            "grid_area": null,
            "grid_auto_columns": null,
            "grid_auto_flow": null,
            "grid_auto_rows": null,
            "grid_column": null,
            "grid_gap": null,
            "grid_row": null,
            "grid_template_areas": null,
            "grid_template_columns": null,
            "grid_template_rows": null,
            "height": null,
            "justify_content": null,
            "justify_items": null,
            "left": null,
            "margin": null,
            "max_height": null,
            "max_width": null,
            "min_height": null,
            "min_width": null,
            "object_fit": null,
            "object_position": null,
            "order": null,
            "overflow": null,
            "overflow_x": null,
            "overflow_y": null,
            "padding": null,
            "right": null,
            "top": null,
            "visibility": null,
            "width": null
          }
        },
        "dbca65de989d4759a8e3efe8b4b91b72": {
          "model_module": "@jupyter-widgets/controls",
          "model_name": "DescriptionStyleModel",
          "model_module_version": "1.5.0",
          "state": {
            "_model_module": "@jupyter-widgets/controls",
            "_model_module_version": "1.5.0",
            "_model_name": "DescriptionStyleModel",
            "_view_count": null,
            "_view_module": "@jupyter-widgets/base",
            "_view_module_version": "1.2.0",
            "_view_name": "StyleView",
            "description_width": ""
          }
        },
        "c554d13caa0a4802b144f1187210f879": {
          "model_module": "@jupyter-widgets/controls",
          "model_name": "HBoxModel",
          "model_module_version": "1.5.0",
          "state": {
            "_dom_classes": [],
            "_model_module": "@jupyter-widgets/controls",
            "_model_module_version": "1.5.0",
            "_model_name": "HBoxModel",
            "_view_count": null,
            "_view_module": "@jupyter-widgets/controls",
            "_view_module_version": "1.5.0",
            "_view_name": "HBoxView",
            "box_style": "",
            "children": [
              "IPY_MODEL_5b5da6c510eb43349ef7dd74e8313114",
              "IPY_MODEL_21dd1e810ba6463fb602d73801c3a985",
              "IPY_MODEL_ca0efc2f79ee404a9616fdcd77bcbdb9"
            ],
            "layout": "IPY_MODEL_584f6ba05e6640fcb13c390fd6505c45"
          }
        },
        "5b5da6c510eb43349ef7dd74e8313114": {
          "model_module": "@jupyter-widgets/controls",
          "model_name": "HTMLModel",
          "model_module_version": "1.5.0",
          "state": {
            "_dom_classes": [],
            "_model_module": "@jupyter-widgets/controls",
            "_model_module_version": "1.5.0",
            "_model_name": "HTMLModel",
            "_view_count": null,
            "_view_module": "@jupyter-widgets/controls",
            "_view_module_version": "1.5.0",
            "_view_name": "HTMLView",
            "description": "",
            "description_tooltip": null,
            "layout": "IPY_MODEL_5944af9039794cf9a8d2e9501f484202",
            "placeholder": "​",
            "style": "IPY_MODEL_667602e7a5b44240a7a05ceea32cf04f",
            "value": "Downloading (…)olve/main/merges.txt: 100%"
          }
        },
        "21dd1e810ba6463fb602d73801c3a985": {
          "model_module": "@jupyter-widgets/controls",
          "model_name": "FloatProgressModel",
          "model_module_version": "1.5.0",
          "state": {
            "_dom_classes": [],
            "_model_module": "@jupyter-widgets/controls",
            "_model_module_version": "1.5.0",
            "_model_name": "FloatProgressModel",
            "_view_count": null,
            "_view_module": "@jupyter-widgets/controls",
            "_view_module_version": "1.5.0",
            "_view_name": "ProgressView",
            "bar_style": "success",
            "description": "",
            "description_tooltip": null,
            "layout": "IPY_MODEL_4bb6fb5d27db4e6897cff82b8788a0fa",
            "max": 1497508,
            "min": 0,
            "orientation": "horizontal",
            "style": "IPY_MODEL_2ac177bcdef24a2cacd4f280df95f25e",
            "value": 1497508
          }
        },
        "ca0efc2f79ee404a9616fdcd77bcbdb9": {
          "model_module": "@jupyter-widgets/controls",
          "model_name": "HTMLModel",
          "model_module_version": "1.5.0",
          "state": {
            "_dom_classes": [],
            "_model_module": "@jupyter-widgets/controls",
            "_model_module_version": "1.5.0",
            "_model_name": "HTMLModel",
            "_view_count": null,
            "_view_module": "@jupyter-widgets/controls",
            "_view_module_version": "1.5.0",
            "_view_name": "HTMLView",
            "description": "",
            "description_tooltip": null,
            "layout": "IPY_MODEL_655f2ef3423d4f4ea2d21171d2e57a46",
            "placeholder": "​",
            "style": "IPY_MODEL_88c0cca8658b470f9f34fcfb748970f2",
            "value": " 1.50M/1.50M [00:00&lt;00:00, 4.01MB/s]"
          }
        },
        "584f6ba05e6640fcb13c390fd6505c45": {
          "model_module": "@jupyter-widgets/base",
          "model_name": "LayoutModel",
          "model_module_version": "1.2.0",
          "state": {
            "_model_module": "@jupyter-widgets/base",
            "_model_module_version": "1.2.0",
            "_model_name": "LayoutModel",
            "_view_count": null,
            "_view_module": "@jupyter-widgets/base",
            "_view_module_version": "1.2.0",
            "_view_name": "LayoutView",
            "align_content": null,
            "align_items": null,
            "align_self": null,
            "border": null,
            "bottom": null,
            "display": null,
            "flex": null,
            "flex_flow": null,
            "grid_area": null,
            "grid_auto_columns": null,
            "grid_auto_flow": null,
            "grid_auto_rows": null,
            "grid_column": null,
            "grid_gap": null,
            "grid_row": null,
            "grid_template_areas": null,
            "grid_template_columns": null,
            "grid_template_rows": null,
            "height": null,
            "justify_content": null,
            "justify_items": null,
            "left": null,
            "margin": null,
            "max_height": null,
            "max_width": null,
            "min_height": null,
            "min_width": null,
            "object_fit": null,
            "object_position": null,
            "order": null,
            "overflow": null,
            "overflow_x": null,
            "overflow_y": null,
            "padding": null,
            "right": null,
            "top": null,
            "visibility": null,
            "width": null
          }
        },
        "5944af9039794cf9a8d2e9501f484202": {
          "model_module": "@jupyter-widgets/base",
          "model_name": "LayoutModel",
          "model_module_version": "1.2.0",
          "state": {
            "_model_module": "@jupyter-widgets/base",
            "_model_module_version": "1.2.0",
            "_model_name": "LayoutModel",
            "_view_count": null,
            "_view_module": "@jupyter-widgets/base",
            "_view_module_version": "1.2.0",
            "_view_name": "LayoutView",
            "align_content": null,
            "align_items": null,
            "align_self": null,
            "border": null,
            "bottom": null,
            "display": null,
            "flex": null,
            "flex_flow": null,
            "grid_area": null,
            "grid_auto_columns": null,
            "grid_auto_flow": null,
            "grid_auto_rows": null,
            "grid_column": null,
            "grid_gap": null,
            "grid_row": null,
            "grid_template_areas": null,
            "grid_template_columns": null,
            "grid_template_rows": null,
            "height": null,
            "justify_content": null,
            "justify_items": null,
            "left": null,
            "margin": null,
            "max_height": null,
            "max_width": null,
            "min_height": null,
            "min_width": null,
            "object_fit": null,
            "object_position": null,
            "order": null,
            "overflow": null,
            "overflow_x": null,
            "overflow_y": null,
            "padding": null,
            "right": null,
            "top": null,
            "visibility": null,
            "width": null
          }
        },
        "667602e7a5b44240a7a05ceea32cf04f": {
          "model_module": "@jupyter-widgets/controls",
          "model_name": "DescriptionStyleModel",
          "model_module_version": "1.5.0",
          "state": {
            "_model_module": "@jupyter-widgets/controls",
            "_model_module_version": "1.5.0",
            "_model_name": "DescriptionStyleModel",
            "_view_count": null,
            "_view_module": "@jupyter-widgets/base",
            "_view_module_version": "1.2.0",
            "_view_name": "StyleView",
            "description_width": ""
          }
        },
        "4bb6fb5d27db4e6897cff82b8788a0fa": {
          "model_module": "@jupyter-widgets/base",
          "model_name": "LayoutModel",
          "model_module_version": "1.2.0",
          "state": {
            "_model_module": "@jupyter-widgets/base",
            "_model_module_version": "1.2.0",
            "_model_name": "LayoutModel",
            "_view_count": null,
            "_view_module": "@jupyter-widgets/base",
            "_view_module_version": "1.2.0",
            "_view_name": "LayoutView",
            "align_content": null,
            "align_items": null,
            "align_self": null,
            "border": null,
            "bottom": null,
            "display": null,
            "flex": null,
            "flex_flow": null,
            "grid_area": null,
            "grid_auto_columns": null,
            "grid_auto_flow": null,
            "grid_auto_rows": null,
            "grid_column": null,
            "grid_gap": null,
            "grid_row": null,
            "grid_template_areas": null,
            "grid_template_columns": null,
            "grid_template_rows": null,
            "height": null,
            "justify_content": null,
            "justify_items": null,
            "left": null,
            "margin": null,
            "max_height": null,
            "max_width": null,
            "min_height": null,
            "min_width": null,
            "object_fit": null,
            "object_position": null,
            "order": null,
            "overflow": null,
            "overflow_x": null,
            "overflow_y": null,
            "padding": null,
            "right": null,
            "top": null,
            "visibility": null,
            "width": null
          }
        },
        "2ac177bcdef24a2cacd4f280df95f25e": {
          "model_module": "@jupyter-widgets/controls",
          "model_name": "ProgressStyleModel",
          "model_module_version": "1.5.0",
          "state": {
            "_model_module": "@jupyter-widgets/controls",
            "_model_module_version": "1.5.0",
            "_model_name": "ProgressStyleModel",
            "_view_count": null,
            "_view_module": "@jupyter-widgets/base",
            "_view_module_version": "1.2.0",
            "_view_name": "StyleView",
            "bar_color": null,
            "description_width": ""
          }
        },
        "655f2ef3423d4f4ea2d21171d2e57a46": {
          "model_module": "@jupyter-widgets/base",
          "model_name": "LayoutModel",
          "model_module_version": "1.2.0",
          "state": {
            "_model_module": "@jupyter-widgets/base",
            "_model_module_version": "1.2.0",
            "_model_name": "LayoutModel",
            "_view_count": null,
            "_view_module": "@jupyter-widgets/base",
            "_view_module_version": "1.2.0",
            "_view_name": "LayoutView",
            "align_content": null,
            "align_items": null,
            "align_self": null,
            "border": null,
            "bottom": null,
            "display": null,
            "flex": null,
            "flex_flow": null,
            "grid_area": null,
            "grid_auto_columns": null,
            "grid_auto_flow": null,
            "grid_auto_rows": null,
            "grid_column": null,
            "grid_gap": null,
            "grid_row": null,
            "grid_template_areas": null,
            "grid_template_columns": null,
            "grid_template_rows": null,
            "height": null,
            "justify_content": null,
            "justify_items": null,
            "left": null,
            "margin": null,
            "max_height": null,
            "max_width": null,
            "min_height": null,
            "min_width": null,
            "object_fit": null,
            "object_position": null,
            "order": null,
            "overflow": null,
            "overflow_x": null,
            "overflow_y": null,
            "padding": null,
            "right": null,
            "top": null,
            "visibility": null,
            "width": null
          }
        },
        "88c0cca8658b470f9f34fcfb748970f2": {
          "model_module": "@jupyter-widgets/controls",
          "model_name": "DescriptionStyleModel",
          "model_module_version": "1.5.0",
          "state": {
            "_model_module": "@jupyter-widgets/controls",
            "_model_module_version": "1.5.0",
            "_model_name": "DescriptionStyleModel",
            "_view_count": null,
            "_view_module": "@jupyter-widgets/base",
            "_view_module_version": "1.2.0",
            "_view_name": "StyleView",
            "description_width": ""
          }
        },
        "fdeec7ca72064f47a3c3ce6d616b5852": {
          "model_module": "@jupyter-widgets/controls",
          "model_name": "HBoxModel",
          "model_module_version": "1.5.0",
          "state": {
            "_dom_classes": [],
            "_model_module": "@jupyter-widgets/controls",
            "_model_module_version": "1.5.0",
            "_model_name": "HBoxModel",
            "_view_count": null,
            "_view_module": "@jupyter-widgets/controls",
            "_view_module_version": "1.5.0",
            "_view_name": "HBoxView",
            "box_style": "",
            "children": [
              "IPY_MODEL_3ce620361a904db3a668739c0fc6c490",
              "IPY_MODEL_1fccd45d9a684163aa438ada64f46e1a",
              "IPY_MODEL_e7936ddc07e247c4b031bf33be4d8587"
            ],
            "layout": "IPY_MODEL_25fa52852d674b69b6c3a5cd97abb3a0"
          }
        },
        "3ce620361a904db3a668739c0fc6c490": {
          "model_module": "@jupyter-widgets/controls",
          "model_name": "HTMLModel",
          "model_module_version": "1.5.0",
          "state": {
            "_dom_classes": [],
            "_model_module": "@jupyter-widgets/controls",
            "_model_module_version": "1.5.0",
            "_model_name": "HTMLModel",
            "_view_count": null,
            "_view_module": "@jupyter-widgets/controls",
            "_view_module_version": "1.5.0",
            "_view_name": "HTMLView",
            "description": "",
            "description_tooltip": null,
            "layout": "IPY_MODEL_9f53e3c43e2e410aa391728068426920",
            "placeholder": "​",
            "style": "IPY_MODEL_e13ddb1d8651410fba24773f8e7e5b34",
            "value": "Downloading (…)/main/tokenizer.json: 100%"
          }
        },
        "1fccd45d9a684163aa438ada64f46e1a": {
          "model_module": "@jupyter-widgets/controls",
          "model_name": "FloatProgressModel",
          "model_module_version": "1.5.0",
          "state": {
            "_dom_classes": [],
            "_model_module": "@jupyter-widgets/controls",
            "_model_module_version": "1.5.0",
            "_model_name": "FloatProgressModel",
            "_view_count": null,
            "_view_module": "@jupyter-widgets/controls",
            "_view_module_version": "1.5.0",
            "_view_name": "ProgressView",
            "bar_style": "success",
            "description": "",
            "description_tooltip": null,
            "layout": "IPY_MODEL_20c1a48d9d184690b8fb4002c0e427cd",
            "max": 4519765,
            "min": 0,
            "orientation": "horizontal",
            "style": "IPY_MODEL_66679a59d6f747528197b0b081074f73",
            "value": 4519765
          }
        },
        "e7936ddc07e247c4b031bf33be4d8587": {
          "model_module": "@jupyter-widgets/controls",
          "model_name": "HTMLModel",
          "model_module_version": "1.5.0",
          "state": {
            "_dom_classes": [],
            "_model_module": "@jupyter-widgets/controls",
            "_model_module_version": "1.5.0",
            "_model_name": "HTMLModel",
            "_view_count": null,
            "_view_module": "@jupyter-widgets/controls",
            "_view_module_version": "1.5.0",
            "_view_name": "HTMLView",
            "description": "",
            "description_tooltip": null,
            "layout": "IPY_MODEL_f5b9cb72cf8548f8acc07a16645c1181",
            "placeholder": "​",
            "style": "IPY_MODEL_31ff3f52d32d4323b878ef224398335a",
            "value": " 4.52M/4.52M [00:00&lt;00:00, 9.11MB/s]"
          }
        },
        "25fa52852d674b69b6c3a5cd97abb3a0": {
          "model_module": "@jupyter-widgets/base",
          "model_name": "LayoutModel",
          "model_module_version": "1.2.0",
          "state": {
            "_model_module": "@jupyter-widgets/base",
            "_model_module_version": "1.2.0",
            "_model_name": "LayoutModel",
            "_view_count": null,
            "_view_module": "@jupyter-widgets/base",
            "_view_module_version": "1.2.0",
            "_view_name": "LayoutView",
            "align_content": null,
            "align_items": null,
            "align_self": null,
            "border": null,
            "bottom": null,
            "display": null,
            "flex": null,
            "flex_flow": null,
            "grid_area": null,
            "grid_auto_columns": null,
            "grid_auto_flow": null,
            "grid_auto_rows": null,
            "grid_column": null,
            "grid_gap": null,
            "grid_row": null,
            "grid_template_areas": null,
            "grid_template_columns": null,
            "grid_template_rows": null,
            "height": null,
            "justify_content": null,
            "justify_items": null,
            "left": null,
            "margin": null,
            "max_height": null,
            "max_width": null,
            "min_height": null,
            "min_width": null,
            "object_fit": null,
            "object_position": null,
            "order": null,
            "overflow": null,
            "overflow_x": null,
            "overflow_y": null,
            "padding": null,
            "right": null,
            "top": null,
            "visibility": null,
            "width": null
          }
        },
        "9f53e3c43e2e410aa391728068426920": {
          "model_module": "@jupyter-widgets/base",
          "model_name": "LayoutModel",
          "model_module_version": "1.2.0",
          "state": {
            "_model_module": "@jupyter-widgets/base",
            "_model_module_version": "1.2.0",
            "_model_name": "LayoutModel",
            "_view_count": null,
            "_view_module": "@jupyter-widgets/base",
            "_view_module_version": "1.2.0",
            "_view_name": "LayoutView",
            "align_content": null,
            "align_items": null,
            "align_self": null,
            "border": null,
            "bottom": null,
            "display": null,
            "flex": null,
            "flex_flow": null,
            "grid_area": null,
            "grid_auto_columns": null,
            "grid_auto_flow": null,
            "grid_auto_rows": null,
            "grid_column": null,
            "grid_gap": null,
            "grid_row": null,
            "grid_template_areas": null,
            "grid_template_columns": null,
            "grid_template_rows": null,
            "height": null,
            "justify_content": null,
            "justify_items": null,
            "left": null,
            "margin": null,
            "max_height": null,
            "max_width": null,
            "min_height": null,
            "min_width": null,
            "object_fit": null,
            "object_position": null,
            "order": null,
            "overflow": null,
            "overflow_x": null,
            "overflow_y": null,
            "padding": null,
            "right": null,
            "top": null,
            "visibility": null,
            "width": null
          }
        },
        "e13ddb1d8651410fba24773f8e7e5b34": {
          "model_module": "@jupyter-widgets/controls",
          "model_name": "DescriptionStyleModel",
          "model_module_version": "1.5.0",
          "state": {
            "_model_module": "@jupyter-widgets/controls",
            "_model_module_version": "1.5.0",
            "_model_name": "DescriptionStyleModel",
            "_view_count": null,
            "_view_module": "@jupyter-widgets/base",
            "_view_module_version": "1.2.0",
            "_view_name": "StyleView",
            "description_width": ""
          }
        },
        "20c1a48d9d184690b8fb4002c0e427cd": {
          "model_module": "@jupyter-widgets/base",
          "model_name": "LayoutModel",
          "model_module_version": "1.2.0",
          "state": {
            "_model_module": "@jupyter-widgets/base",
            "_model_module_version": "1.2.0",
            "_model_name": "LayoutModel",
            "_view_count": null,
            "_view_module": "@jupyter-widgets/base",
            "_view_module_version": "1.2.0",
            "_view_name": "LayoutView",
            "align_content": null,
            "align_items": null,
            "align_self": null,
            "border": null,
            "bottom": null,
            "display": null,
            "flex": null,
            "flex_flow": null,
            "grid_area": null,
            "grid_auto_columns": null,
            "grid_auto_flow": null,
            "grid_auto_rows": null,
            "grid_column": null,
            "grid_gap": null,
            "grid_row": null,
            "grid_template_areas": null,
            "grid_template_columns": null,
            "grid_template_rows": null,
            "height": null,
            "justify_content": null,
            "justify_items": null,
            "left": null,
            "margin": null,
            "max_height": null,
            "max_width": null,
            "min_height": null,
            "min_width": null,
            "object_fit": null,
            "object_position": null,
            "order": null,
            "overflow": null,
            "overflow_x": null,
            "overflow_y": null,
            "padding": null,
            "right": null,
            "top": null,
            "visibility": null,
            "width": null
          }
        },
        "66679a59d6f747528197b0b081074f73": {
          "model_module": "@jupyter-widgets/controls",
          "model_name": "ProgressStyleModel",
          "model_module_version": "1.5.0",
          "state": {
            "_model_module": "@jupyter-widgets/controls",
            "_model_module_version": "1.5.0",
            "_model_name": "ProgressStyleModel",
            "_view_count": null,
            "_view_module": "@jupyter-widgets/base",
            "_view_module_version": "1.2.0",
            "_view_name": "StyleView",
            "bar_color": null,
            "description_width": ""
          }
        },
        "f5b9cb72cf8548f8acc07a16645c1181": {
          "model_module": "@jupyter-widgets/base",
          "model_name": "LayoutModel",
          "model_module_version": "1.2.0",
          "state": {
            "_model_module": "@jupyter-widgets/base",
            "_model_module_version": "1.2.0",
            "_model_name": "LayoutModel",
            "_view_count": null,
            "_view_module": "@jupyter-widgets/base",
            "_view_module_version": "1.2.0",
            "_view_name": "LayoutView",
            "align_content": null,
            "align_items": null,
            "align_self": null,
            "border": null,
            "bottom": null,
            "display": null,
            "flex": null,
            "flex_flow": null,
            "grid_area": null,
            "grid_auto_columns": null,
            "grid_auto_flow": null,
            "grid_auto_rows": null,
            "grid_column": null,
            "grid_gap": null,
            "grid_row": null,
            "grid_template_areas": null,
            "grid_template_columns": null,
            "grid_template_rows": null,
            "height": null,
            "justify_content": null,
            "justify_items": null,
            "left": null,
            "margin": null,
            "max_height": null,
            "max_width": null,
            "min_height": null,
            "min_width": null,
            "object_fit": null,
            "object_position": null,
            "order": null,
            "overflow": null,
            "overflow_x": null,
            "overflow_y": null,
            "padding": null,
            "right": null,
            "top": null,
            "visibility": null,
            "width": null
          }
        },
        "31ff3f52d32d4323b878ef224398335a": {
          "model_module": "@jupyter-widgets/controls",
          "model_name": "DescriptionStyleModel",
          "model_module_version": "1.5.0",
          "state": {
            "_model_module": "@jupyter-widgets/controls",
            "_model_module_version": "1.5.0",
            "_model_name": "DescriptionStyleModel",
            "_view_count": null,
            "_view_module": "@jupyter-widgets/base",
            "_view_module_version": "1.2.0",
            "_view_name": "StyleView",
            "description_width": ""
          }
        },
        "699396af24ef43f19ffb2a4854ac1557": {
          "model_module": "@jupyter-widgets/controls",
          "model_name": "HBoxModel",
          "model_module_version": "1.5.0",
          "state": {
            "_dom_classes": [],
            "_model_module": "@jupyter-widgets/controls",
            "_model_module_version": "1.5.0",
            "_model_name": "HBoxModel",
            "_view_count": null,
            "_view_module": "@jupyter-widgets/controls",
            "_view_module_version": "1.5.0",
            "_view_name": "HBoxView",
            "box_style": "",
            "children": [
              "IPY_MODEL_2f1ab916aeff4494a88e354fcf45bc52",
              "IPY_MODEL_0866dc1725a14075bde779c34b89aed8",
              "IPY_MODEL_0bcc942cad9b4414807cc731f4e54a22"
            ],
            "layout": "IPY_MODEL_200525098db946f4bd349a132d06ffaa"
          }
        },
        "2f1ab916aeff4494a88e354fcf45bc52": {
          "model_module": "@jupyter-widgets/controls",
          "model_name": "HTMLModel",
          "model_module_version": "1.5.0",
          "state": {
            "_dom_classes": [],
            "_model_module": "@jupyter-widgets/controls",
            "_model_module_version": "1.5.0",
            "_model_name": "HTMLModel",
            "_view_count": null,
            "_view_module": "@jupyter-widgets/controls",
            "_view_module_version": "1.5.0",
            "_view_name": "HTMLView",
            "description": "",
            "description_tooltip": null,
            "layout": "IPY_MODEL_3ec6814fbaa042f2871b95c963017ff6",
            "placeholder": "​",
            "style": "IPY_MODEL_715f74a08cb64f53a1dc97fbda9a4484",
            "value": "Downloading (…)lve/main/config.json: 100%"
          }
        },
        "0866dc1725a14075bde779c34b89aed8": {
          "model_module": "@jupyter-widgets/controls",
          "model_name": "FloatProgressModel",
          "model_module_version": "1.5.0",
          "state": {
            "_dom_classes": [],
            "_model_module": "@jupyter-widgets/controls",
            "_model_module_version": "1.5.0",
            "_model_name": "FloatProgressModel",
            "_view_count": null,
            "_view_module": "@jupyter-widgets/controls",
            "_view_module_version": "1.5.0",
            "_view_name": "ProgressView",
            "bar_style": "success",
            "description": "",
            "description_tooltip": null,
            "layout": "IPY_MODEL_d026214e4acc40e9830b9f8f375ef58e",
            "max": 843,
            "min": 0,
            "orientation": "horizontal",
            "style": "IPY_MODEL_b7590aa8c057468da4fa9cccf254c20f",
            "value": 843
          }
        },
        "0bcc942cad9b4414807cc731f4e54a22": {
          "model_module": "@jupyter-widgets/controls",
          "model_name": "HTMLModel",
          "model_module_version": "1.5.0",
          "state": {
            "_dom_classes": [],
            "_model_module": "@jupyter-widgets/controls",
            "_model_module_version": "1.5.0",
            "_model_name": "HTMLModel",
            "_view_count": null,
            "_view_module": "@jupyter-widgets/controls",
            "_view_module_version": "1.5.0",
            "_view_name": "HTMLView",
            "description": "",
            "description_tooltip": null,
            "layout": "IPY_MODEL_6133bc87bfc04f348281e5fdc75deed1",
            "placeholder": "​",
            "style": "IPY_MODEL_75de906d51154c2cb8566d270dbffcbc",
            "value": " 843/843 [00:00&lt;00:00, 46.5kB/s]"
          }
        },
        "200525098db946f4bd349a132d06ffaa": {
          "model_module": "@jupyter-widgets/base",
          "model_name": "LayoutModel",
          "model_module_version": "1.2.0",
          "state": {
            "_model_module": "@jupyter-widgets/base",
            "_model_module_version": "1.2.0",
            "_model_name": "LayoutModel",
            "_view_count": null,
            "_view_module": "@jupyter-widgets/base",
            "_view_module_version": "1.2.0",
            "_view_name": "LayoutView",
            "align_content": null,
            "align_items": null,
            "align_self": null,
            "border": null,
            "bottom": null,
            "display": null,
            "flex": null,
            "flex_flow": null,
            "grid_area": null,
            "grid_auto_columns": null,
            "grid_auto_flow": null,
            "grid_auto_rows": null,
            "grid_column": null,
            "grid_gap": null,
            "grid_row": null,
            "grid_template_areas": null,
            "grid_template_columns": null,
            "grid_template_rows": null,
            "height": null,
            "justify_content": null,
            "justify_items": null,
            "left": null,
            "margin": null,
            "max_height": null,
            "max_width": null,
            "min_height": null,
            "min_width": null,
            "object_fit": null,
            "object_position": null,
            "order": null,
            "overflow": null,
            "overflow_x": null,
            "overflow_y": null,
            "padding": null,
            "right": null,
            "top": null,
            "visibility": null,
            "width": null
          }
        },
        "3ec6814fbaa042f2871b95c963017ff6": {
          "model_module": "@jupyter-widgets/base",
          "model_name": "LayoutModel",
          "model_module_version": "1.2.0",
          "state": {
            "_model_module": "@jupyter-widgets/base",
            "_model_module_version": "1.2.0",
            "_model_name": "LayoutModel",
            "_view_count": null,
            "_view_module": "@jupyter-widgets/base",
            "_view_module_version": "1.2.0",
            "_view_name": "LayoutView",
            "align_content": null,
            "align_items": null,
            "align_self": null,
            "border": null,
            "bottom": null,
            "display": null,
            "flex": null,
            "flex_flow": null,
            "grid_area": null,
            "grid_auto_columns": null,
            "grid_auto_flow": null,
            "grid_auto_rows": null,
            "grid_column": null,
            "grid_gap": null,
            "grid_row": null,
            "grid_template_areas": null,
            "grid_template_columns": null,
            "grid_template_rows": null,
            "height": null,
            "justify_content": null,
            "justify_items": null,
            "left": null,
            "margin": null,
            "max_height": null,
            "max_width": null,
            "min_height": null,
            "min_width": null,
            "object_fit": null,
            "object_position": null,
            "order": null,
            "overflow": null,
            "overflow_x": null,
            "overflow_y": null,
            "padding": null,
            "right": null,
            "top": null,
            "visibility": null,
            "width": null
          }
        },
        "715f74a08cb64f53a1dc97fbda9a4484": {
          "model_module": "@jupyter-widgets/controls",
          "model_name": "DescriptionStyleModel",
          "model_module_version": "1.5.0",
          "state": {
            "_model_module": "@jupyter-widgets/controls",
            "_model_module_version": "1.5.0",
            "_model_name": "DescriptionStyleModel",
            "_view_count": null,
            "_view_module": "@jupyter-widgets/base",
            "_view_module_version": "1.2.0",
            "_view_name": "StyleView",
            "description_width": ""
          }
        },
        "d026214e4acc40e9830b9f8f375ef58e": {
          "model_module": "@jupyter-widgets/base",
          "model_name": "LayoutModel",
          "model_module_version": "1.2.0",
          "state": {
            "_model_module": "@jupyter-widgets/base",
            "_model_module_version": "1.2.0",
            "_model_name": "LayoutModel",
            "_view_count": null,
            "_view_module": "@jupyter-widgets/base",
            "_view_module_version": "1.2.0",
            "_view_name": "LayoutView",
            "align_content": null,
            "align_items": null,
            "align_self": null,
            "border": null,
            "bottom": null,
            "display": null,
            "flex": null,
            "flex_flow": null,
            "grid_area": null,
            "grid_auto_columns": null,
            "grid_auto_flow": null,
            "grid_auto_rows": null,
            "grid_column": null,
            "grid_gap": null,
            "grid_row": null,
            "grid_template_areas": null,
            "grid_template_columns": null,
            "grid_template_rows": null,
            "height": null,
            "justify_content": null,
            "justify_items": null,
            "left": null,
            "margin": null,
            "max_height": null,
            "max_width": null,
            "min_height": null,
            "min_width": null,
            "object_fit": null,
            "object_position": null,
            "order": null,
            "overflow": null,
            "overflow_x": null,
            "overflow_y": null,
            "padding": null,
            "right": null,
            "top": null,
            "visibility": null,
            "width": null
          }
        },
        "b7590aa8c057468da4fa9cccf254c20f": {
          "model_module": "@jupyter-widgets/controls",
          "model_name": "ProgressStyleModel",
          "model_module_version": "1.5.0",
          "state": {
            "_model_module": "@jupyter-widgets/controls",
            "_model_module_version": "1.5.0",
            "_model_name": "ProgressStyleModel",
            "_view_count": null,
            "_view_module": "@jupyter-widgets/base",
            "_view_module_version": "1.2.0",
            "_view_name": "StyleView",
            "bar_color": null,
            "description_width": ""
          }
        },
        "6133bc87bfc04f348281e5fdc75deed1": {
          "model_module": "@jupyter-widgets/base",
          "model_name": "LayoutModel",
          "model_module_version": "1.2.0",
          "state": {
            "_model_module": "@jupyter-widgets/base",
            "_model_module_version": "1.2.0",
            "_model_name": "LayoutModel",
            "_view_count": null,
            "_view_module": "@jupyter-widgets/base",
            "_view_module_version": "1.2.0",
            "_view_name": "LayoutView",
            "align_content": null,
            "align_items": null,
            "align_self": null,
            "border": null,
            "bottom": null,
            "display": null,
            "flex": null,
            "flex_flow": null,
            "grid_area": null,
            "grid_auto_columns": null,
            "grid_auto_flow": null,
            "grid_auto_rows": null,
            "grid_column": null,
            "grid_gap": null,
            "grid_row": null,
            "grid_template_areas": null,
            "grid_template_columns": null,
            "grid_template_rows": null,
            "height": null,
            "justify_content": null,
            "justify_items": null,
            "left": null,
            "margin": null,
            "max_height": null,
            "max_width": null,
            "min_height": null,
            "min_width": null,
            "object_fit": null,
            "object_position": null,
            "order": null,
            "overflow": null,
            "overflow_x": null,
            "overflow_y": null,
            "padding": null,
            "right": null,
            "top": null,
            "visibility": null,
            "width": null
          }
        },
        "75de906d51154c2cb8566d270dbffcbc": {
          "model_module": "@jupyter-widgets/controls",
          "model_name": "DescriptionStyleModel",
          "model_module_version": "1.5.0",
          "state": {
            "_model_module": "@jupyter-widgets/controls",
            "_model_module_version": "1.5.0",
            "_model_name": "DescriptionStyleModel",
            "_view_count": null,
            "_view_module": "@jupyter-widgets/base",
            "_view_module_version": "1.2.0",
            "_view_name": "StyleView",
            "description_width": ""
          }
        },
        "9e1771b5b2bf4dac9a4f3b01baa81ae2": {
          "model_module": "@jupyter-widgets/controls",
          "model_name": "HBoxModel",
          "model_module_version": "1.5.0",
          "state": {
            "_dom_classes": [],
            "_model_module": "@jupyter-widgets/controls",
            "_model_module_version": "1.5.0",
            "_model_name": "HBoxModel",
            "_view_count": null,
            "_view_module": "@jupyter-widgets/controls",
            "_view_module_version": "1.5.0",
            "_view_name": "HBoxView",
            "box_style": "",
            "children": [
              "IPY_MODEL_58f86466a63f42bfb261fe1d4ed965d4",
              "IPY_MODEL_9e7c66435b404fa3aa92e48bd011b872",
              "IPY_MODEL_96fb23d9a9aa4282ae4d2cd656b6f8f8"
            ],
            "layout": "IPY_MODEL_792d1d02c1504281934f0b511581c74b"
          }
        },
        "58f86466a63f42bfb261fe1d4ed965d4": {
          "model_module": "@jupyter-widgets/controls",
          "model_name": "HTMLModel",
          "model_module_version": "1.5.0",
          "state": {
            "_dom_classes": [],
            "_model_module": "@jupyter-widgets/controls",
            "_model_module_version": "1.5.0",
            "_model_name": "HTMLModel",
            "_view_count": null,
            "_view_module": "@jupyter-widgets/controls",
            "_view_module_version": "1.5.0",
            "_view_name": "HTMLView",
            "description": "",
            "description_tooltip": null,
            "layout": "IPY_MODEL_58d6cc3995b548599f75ef1d4af42903",
            "placeholder": "​",
            "style": "IPY_MODEL_bc566df671a44c0d9a9bd3b46e107292",
            "value": "Downloading (…)&quot;pytorch_model.bin&quot;;: 100%"
          }
        },
        "9e7c66435b404fa3aa92e48bd011b872": {
          "model_module": "@jupyter-widgets/controls",
          "model_name": "FloatProgressModel",
          "model_module_version": "1.5.0",
          "state": {
            "_dom_classes": [],
            "_model_module": "@jupyter-widgets/controls",
            "_model_module_version": "1.5.0",
            "_model_name": "FloatProgressModel",
            "_view_count": null,
            "_view_module": "@jupyter-widgets/controls",
            "_view_module_version": "1.5.0",
            "_view_name": "ProgressView",
            "bar_style": "success",
            "description": "",
            "description_tooltip": null,
            "layout": "IPY_MODEL_689d5751d0d948b8ab809b0010797288",
            "max": 552618653,
            "min": 0,
            "orientation": "horizontal",
            "style": "IPY_MODEL_beebe16bcac74eb9b62509aecce119dc",
            "value": 552618653
          }
        },
        "96fb23d9a9aa4282ae4d2cd656b6f8f8": {
          "model_module": "@jupyter-widgets/controls",
          "model_name": "HTMLModel",
          "model_module_version": "1.5.0",
          "state": {
            "_dom_classes": [],
            "_model_module": "@jupyter-widgets/controls",
            "_model_module_version": "1.5.0",
            "_model_name": "HTMLModel",
            "_view_count": null,
            "_view_module": "@jupyter-widgets/controls",
            "_view_module_version": "1.5.0",
            "_view_name": "HTMLView",
            "description": "",
            "description_tooltip": null,
            "layout": "IPY_MODEL_a0277ddb1a934dc1bbec46262e25f322",
            "placeholder": "​",
            "style": "IPY_MODEL_4df33929b91049a0afb58be2e7f0808f",
            "value": " 553M/553M [00:01&lt;00:00, 278MB/s]"
          }
        },
        "792d1d02c1504281934f0b511581c74b": {
          "model_module": "@jupyter-widgets/base",
          "model_name": "LayoutModel",
          "model_module_version": "1.2.0",
          "state": {
            "_model_module": "@jupyter-widgets/base",
            "_model_module_version": "1.2.0",
            "_model_name": "LayoutModel",
            "_view_count": null,
            "_view_module": "@jupyter-widgets/base",
            "_view_module_version": "1.2.0",
            "_view_name": "LayoutView",
            "align_content": null,
            "align_items": null,
            "align_self": null,
            "border": null,
            "bottom": null,
            "display": null,
            "flex": null,
            "flex_flow": null,
            "grid_area": null,
            "grid_auto_columns": null,
            "grid_auto_flow": null,
            "grid_auto_rows": null,
            "grid_column": null,
            "grid_gap": null,
            "grid_row": null,
            "grid_template_areas": null,
            "grid_template_columns": null,
            "grid_template_rows": null,
            "height": null,
            "justify_content": null,
            "justify_items": null,
            "left": null,
            "margin": null,
            "max_height": null,
            "max_width": null,
            "min_height": null,
            "min_width": null,
            "object_fit": null,
            "object_position": null,
            "order": null,
            "overflow": null,
            "overflow_x": null,
            "overflow_y": null,
            "padding": null,
            "right": null,
            "top": null,
            "visibility": null,
            "width": null
          }
        },
        "58d6cc3995b548599f75ef1d4af42903": {
          "model_module": "@jupyter-widgets/base",
          "model_name": "LayoutModel",
          "model_module_version": "1.2.0",
          "state": {
            "_model_module": "@jupyter-widgets/base",
            "_model_module_version": "1.2.0",
            "_model_name": "LayoutModel",
            "_view_count": null,
            "_view_module": "@jupyter-widgets/base",
            "_view_module_version": "1.2.0",
            "_view_name": "LayoutView",
            "align_content": null,
            "align_items": null,
            "align_self": null,
            "border": null,
            "bottom": null,
            "display": null,
            "flex": null,
            "flex_flow": null,
            "grid_area": null,
            "grid_auto_columns": null,
            "grid_auto_flow": null,
            "grid_auto_rows": null,
            "grid_column": null,
            "grid_gap": null,
            "grid_row": null,
            "grid_template_areas": null,
            "grid_template_columns": null,
            "grid_template_rows": null,
            "height": null,
            "justify_content": null,
            "justify_items": null,
            "left": null,
            "margin": null,
            "max_height": null,
            "max_width": null,
            "min_height": null,
            "min_width": null,
            "object_fit": null,
            "object_position": null,
            "order": null,
            "overflow": null,
            "overflow_x": null,
            "overflow_y": null,
            "padding": null,
            "right": null,
            "top": null,
            "visibility": null,
            "width": null
          }
        },
        "bc566df671a44c0d9a9bd3b46e107292": {
          "model_module": "@jupyter-widgets/controls",
          "model_name": "DescriptionStyleModel",
          "model_module_version": "1.5.0",
          "state": {
            "_model_module": "@jupyter-widgets/controls",
            "_model_module_version": "1.5.0",
            "_model_name": "DescriptionStyleModel",
            "_view_count": null,
            "_view_module": "@jupyter-widgets/base",
            "_view_module_version": "1.2.0",
            "_view_name": "StyleView",
            "description_width": ""
          }
        },
        "689d5751d0d948b8ab809b0010797288": {
          "model_module": "@jupyter-widgets/base",
          "model_name": "LayoutModel",
          "model_module_version": "1.2.0",
          "state": {
            "_model_module": "@jupyter-widgets/base",
            "_model_module_version": "1.2.0",
            "_model_name": "LayoutModel",
            "_view_count": null,
            "_view_module": "@jupyter-widgets/base",
            "_view_module_version": "1.2.0",
            "_view_name": "LayoutView",
            "align_content": null,
            "align_items": null,
            "align_self": null,
            "border": null,
            "bottom": null,
            "display": null,
            "flex": null,
            "flex_flow": null,
            "grid_area": null,
            "grid_auto_columns": null,
            "grid_auto_flow": null,
            "grid_auto_rows": null,
            "grid_column": null,
            "grid_gap": null,
            "grid_row": null,
            "grid_template_areas": null,
            "grid_template_columns": null,
            "grid_template_rows": null,
            "height": null,
            "justify_content": null,
            "justify_items": null,
            "left": null,
            "margin": null,
            "max_height": null,
            "max_width": null,
            "min_height": null,
            "min_width": null,
            "object_fit": null,
            "object_position": null,
            "order": null,
            "overflow": null,
            "overflow_x": null,
            "overflow_y": null,
            "padding": null,
            "right": null,
            "top": null,
            "visibility": null,
            "width": null
          }
        },
        "beebe16bcac74eb9b62509aecce119dc": {
          "model_module": "@jupyter-widgets/controls",
          "model_name": "ProgressStyleModel",
          "model_module_version": "1.5.0",
          "state": {
            "_model_module": "@jupyter-widgets/controls",
            "_model_module_version": "1.5.0",
            "_model_name": "ProgressStyleModel",
            "_view_count": null,
            "_view_module": "@jupyter-widgets/base",
            "_view_module_version": "1.2.0",
            "_view_name": "StyleView",
            "bar_color": null,
            "description_width": ""
          }
        },
        "a0277ddb1a934dc1bbec46262e25f322": {
          "model_module": "@jupyter-widgets/base",
          "model_name": "LayoutModel",
          "model_module_version": "1.2.0",
          "state": {
            "_model_module": "@jupyter-widgets/base",
            "_model_module_version": "1.2.0",
            "_model_name": "LayoutModel",
            "_view_count": null,
            "_view_module": "@jupyter-widgets/base",
            "_view_module_version": "1.2.0",
            "_view_name": "LayoutView",
            "align_content": null,
            "align_items": null,
            "align_self": null,
            "border": null,
            "bottom": null,
            "display": null,
            "flex": null,
            "flex_flow": null,
            "grid_area": null,
            "grid_auto_columns": null,
            "grid_auto_flow": null,
            "grid_auto_rows": null,
            "grid_column": null,
            "grid_gap": null,
            "grid_row": null,
            "grid_template_areas": null,
            "grid_template_columns": null,
            "grid_template_rows": null,
            "height": null,
            "justify_content": null,
            "justify_items": null,
            "left": null,
            "margin": null,
            "max_height": null,
            "max_width": null,
            "min_height": null,
            "min_width": null,
            "object_fit": null,
            "object_position": null,
            "order": null,
            "overflow": null,
            "overflow_x": null,
            "overflow_y": null,
            "padding": null,
            "right": null,
            "top": null,
            "visibility": null,
            "width": null
          }
        },
        "4df33929b91049a0afb58be2e7f0808f": {
          "model_module": "@jupyter-widgets/controls",
          "model_name": "DescriptionStyleModel",
          "model_module_version": "1.5.0",
          "state": {
            "_model_module": "@jupyter-widgets/controls",
            "_model_module_version": "1.5.0",
            "_model_name": "DescriptionStyleModel",
            "_view_count": null,
            "_view_module": "@jupyter-widgets/base",
            "_view_module_version": "1.2.0",
            "_view_name": "StyleView",
            "description_width": ""
          }
        }
      }
    }
  },
  "nbformat": 4,
  "nbformat_minor": 0
}